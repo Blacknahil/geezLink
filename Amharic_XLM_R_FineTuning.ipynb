{
  "cells": [
    {
      "cell_type": "code",
      "execution_count": 1,
      "metadata": {
        "colab": {
          "base_uri": "https://localhost:8080/"
        },
        "id": "O7aR3J5__wes",
        "outputId": "84620958-e671-4b5d-8cf5-d898e72957ce"
      },
      "outputs": [
        {
          "output_type": "stream",
          "name": "stdout",
          "text": [
            "\u001b[?25l   \u001b[90m━━━━━━━━━━━━━━━━━━━━━━━━━━━━━━━━━━━━━━━━\u001b[0m \u001b[32m0.0/480.6 kB\u001b[0m \u001b[31m?\u001b[0m eta \u001b[36m-:--:--\u001b[0m\r\u001b[2K   \u001b[91m━━━━━━━━━━━━━━━━━━━━━━━━━━━━━━━━━━━━━━━\u001b[0m\u001b[90m╺\u001b[0m \u001b[32m471.0/480.6 kB\u001b[0m \u001b[31m23.3 MB/s\u001b[0m eta \u001b[36m0:00:01\u001b[0m\r\u001b[2K   \u001b[90m━━━━━━━━━━━━━━━━━━━━━━━━━━━━━━━━━━━━━━━━\u001b[0m \u001b[32m480.6/480.6 kB\u001b[0m \u001b[31m12.8 MB/s\u001b[0m eta \u001b[36m0:00:00\u001b[0m\n",
            "\u001b[2K   \u001b[90m━━━━━━━━━━━━━━━━━━━━━━━━━━━━━━━━━━━━━━━━\u001b[0m \u001b[32m116.3/116.3 kB\u001b[0m \u001b[31m8.0 MB/s\u001b[0m eta \u001b[36m0:00:00\u001b[0m\n",
            "\u001b[2K   \u001b[90m━━━━━━━━━━━━━━━━━━━━━━━━━━━━━━━━━━━━━━━━\u001b[0m \u001b[32m179.3/179.3 kB\u001b[0m \u001b[31m10.5 MB/s\u001b[0m eta \u001b[36m0:00:00\u001b[0m\n",
            "\u001b[2K   \u001b[90m━━━━━━━━━━━━━━━━━━━━━━━━━━━━━━━━━━━━━━━━\u001b[0m \u001b[32m143.5/143.5 kB\u001b[0m \u001b[31m8.2 MB/s\u001b[0m eta \u001b[36m0:00:00\u001b[0m\n",
            "\u001b[2K   \u001b[90m━━━━━━━━━━━━━━━━━━━━━━━━━━━━━━━━━━━━━━━━\u001b[0m \u001b[32m194.8/194.8 kB\u001b[0m \u001b[31m9.3 MB/s\u001b[0m eta \u001b[36m0:00:00\u001b[0m\n",
            "\u001b[?25h\u001b[31mERROR: pip's dependency resolver does not currently take into account all the packages that are installed. This behaviour is the source of the following dependency conflicts.\n",
            "torch 2.5.1+cu124 requires nvidia-cublas-cu12==12.4.5.8; platform_system == \"Linux\" and platform_machine == \"x86_64\", but you have nvidia-cublas-cu12 12.5.3.2 which is incompatible.\n",
            "torch 2.5.1+cu124 requires nvidia-cuda-cupti-cu12==12.4.127; platform_system == \"Linux\" and platform_machine == \"x86_64\", but you have nvidia-cuda-cupti-cu12 12.5.82 which is incompatible.\n",
            "torch 2.5.1+cu124 requires nvidia-cuda-nvrtc-cu12==12.4.127; platform_system == \"Linux\" and platform_machine == \"x86_64\", but you have nvidia-cuda-nvrtc-cu12 12.5.82 which is incompatible.\n",
            "torch 2.5.1+cu124 requires nvidia-cuda-runtime-cu12==12.4.127; platform_system == \"Linux\" and platform_machine == \"x86_64\", but you have nvidia-cuda-runtime-cu12 12.5.82 which is incompatible.\n",
            "torch 2.5.1+cu124 requires nvidia-cudnn-cu12==9.1.0.70; platform_system == \"Linux\" and platform_machine == \"x86_64\", but you have nvidia-cudnn-cu12 9.3.0.75 which is incompatible.\n",
            "torch 2.5.1+cu124 requires nvidia-cufft-cu12==11.2.1.3; platform_system == \"Linux\" and platform_machine == \"x86_64\", but you have nvidia-cufft-cu12 11.2.3.61 which is incompatible.\n",
            "torch 2.5.1+cu124 requires nvidia-curand-cu12==10.3.5.147; platform_system == \"Linux\" and platform_machine == \"x86_64\", but you have nvidia-curand-cu12 10.3.6.82 which is incompatible.\n",
            "torch 2.5.1+cu124 requires nvidia-cusolver-cu12==11.6.1.9; platform_system == \"Linux\" and platform_machine == \"x86_64\", but you have nvidia-cusolver-cu12 11.6.3.83 which is incompatible.\n",
            "torch 2.5.1+cu124 requires nvidia-cusparse-cu12==12.3.1.170; platform_system == \"Linux\" and platform_machine == \"x86_64\", but you have nvidia-cusparse-cu12 12.5.1.3 which is incompatible.\n",
            "torch 2.5.1+cu124 requires nvidia-nvjitlink-cu12==12.4.127; platform_system == \"Linux\" and platform_machine == \"x86_64\", but you have nvidia-nvjitlink-cu12 12.5.82 which is incompatible.\n",
            "gcsfs 2024.10.0 requires fsspec==2024.10.0, but you have fsspec 2024.9.0 which is incompatible.\u001b[0m\u001b[31m\n",
            "\u001b[0m"
          ]
        }
      ],
      "source": [
        "!pip install datasets --quiet"
      ]
    },
    {
      "cell_type": "code",
      "execution_count": 17,
      "metadata": {
        "id": "j_FrKumZ_5_X"
      },
      "outputs": [],
      "source": [
        "import pandas as pd\n",
        "from sentence_transformers import (\n",
        "    SentenceTransformer,\n",
        "    SentenceTransformerTrainer,\n",
        "    SentenceTransformerTrainingArguments,\n",
        "    SentenceTransformerModelCardData,\n",
        "    losses,\n",
        "    evaluation\n",
        ")\n",
        "from datasets import Dataset, concatenate_datasets\n",
        "from peft import LoraConfig, TaskType, get_peft_model\n",
        "import ast"
      ]
    },
    {
      "cell_type": "code",
      "execution_count": 18,
      "metadata": {
        "id": "Dg7X98wRBkjf"
      },
      "outputs": [],
      "source": [
        "def load_triplet_data(path):\n",
        "    df = pd.read_csv(path)\n",
        "    df['negative'] = df['negatives'].apply(lambda x: ast.literal_eval(x) if isinstance(x, str) else x)\n",
        "\n",
        "    # Exploding the 'negative' column to create multiple rows\n",
        "    df_expanded = df.explode('negative').reset_index(drop=True)\n",
        "\n",
        "    return Dataset.from_dict({\n",
        "        \"anchor\": df_expanded['anchor'].tolist(),\n",
        "        \"positive\": df_expanded['positive'].tolist(),\n",
        "        \"negative\": df_expanded['negative'].tolist()\n",
        "    })"
      ]
    },
    {
      "cell_type": "code",
      "execution_count": 4,
      "metadata": {
        "colab": {
          "base_uri": "https://localhost:8080/"
        },
        "id": "dLGzM6BgB7u4",
        "outputId": "392dd4f0-3d88-4775-9b41-487eccb87969"
      },
      "outputs": [
        {
          "output_type": "stream",
          "name": "stdout",
          "text": [
            "Mounted at /content/drive\n"
          ]
        }
      ],
      "source": [
        "from google.colab import drive\n",
        "drive.mount('/content/drive')"
      ]
    },
    {
      "cell_type": "code",
      "execution_count": 21,
      "metadata": {
        "id": "3BDQxRlqCG2C"
      },
      "outputs": [],
      "source": [
        "data_path = '/content/drive/MyDrive/data/'\n",
        "\n",
        "\n",
        "train_data = load_triplet_data(data_path + \"train.csv\")\n",
        "test_data = load_triplet_data(data_path + \"test.csv\")\n",
        "val_data = load_triplet_data(data_path + \"dev.csv\")"
      ]
    },
    {
      "cell_type": "code",
      "source": [
        "train_data[0]"
      ],
      "metadata": {
        "colab": {
          "base_uri": "https://localhost:8080/"
        },
        "id": "uei_uyY8Kn_9",
        "outputId": "d30ecdd3-c505-458b-ba08-ef8d077b460b"
      },
      "execution_count": 22,
      "outputs": [
        {
          "output_type": "execute_result",
          "data": {
            "text/plain": [
              "{'anchor': 'የታክስ ገቢ ከ2010-2012 በመቶኛ የምን ያህል መጠን እድገት አሳየ?',\n",
              " 'positive': 'ጠቅላይ ሚኒስትር ዐቢይ አሕመድ ከ2010 ጀምሮ በፋይናንሱ ዘርፍ ስኬታማ ለውጦች መመዝገባቸውን ገለጹ፡፡ ጠቅላይ ሚኒስትር ዐቢይ የፋይናንስ ዘርፍ ዐበይት ስኬቶች በሚል በማህበራዊ ትስስር ገፃቸው ላይ እንዳስታወቁት የታክስ ገቢ በ2010 ከነበረበት 229 ቢሊየን ብር በ2012 የ36 በመቶ ጭማሪ በማሳየት 311 ቢሊየን ማድረስ ተችሏል።',\n",
              " 'negative': 'ፋሲለደስ ዓፄ ፋሲለደስ ወይም ዓፄ ፋሲል (የዙፋን ስማቸው ዓለም ሰገድ)  ከአባታቸው አፄ ሱሰኒዮስ  እና እናታቸው ልዕልት ስልጣነ ምገሴ  በመገዛዝ፣ ሸዋ ህዳር 10፣ 1603  (እ.ኤ.አ) ተወለዱ። የነገሱበትም ዘመን ከ1632  እስከ ጥቅምት 18, 1667 (እ.ኤ.አ) ነበር። በስረፀ ክርስቶስ በተመራው አመፅ ምክንያት በ1630 ፋሲለደስ ለንግስና ቢበቃም፣ ዘውዱን ግን እስከ 1632 አልጫነም ነበር። ሲመተ ንግስናው በ1632 እንደተገባደደ የመጀመሪያው ስራው የተዋህዶ ቤ/ክርስቲያንን የቀድሞው ቁመና መመለስና የካቶሊኮችን መሬት በመቀማት ከደንካዝ በማባረር በፍሪሞና እንዲወሰኑ ማድረግ ነበር። ወዲያውም በማከታተል ከግብፅ አገር አዲስ ጳጳስ እንዲላክለት በማድረግ በአባቱ ዘመን እንዲደበዝዝ ተደርጎ የነበረውን የግብፅና ኢትዮጵያ አብያተ ክርስቲያናት ግንኙነት እንዲጸና አደረገ።  በኬኒያ የሚገኘው የሞምባሳ ወደብ በፖርቱጋሎች መደብደቡን ሲሰማ፣ የሮማው ፓፓ ከበስትጀርባው ያለበት ሴራ ነው በማለት በምድሩ የነበሩትን የካቶሊክ ጀስዊቶች በመሰብሰብ አባረራቸው። አፄ ፋሲል አዘዞ ተብላ በምትታወቀው ከጎንደር ከተማ 5 ማይል ርቃ በምትገኘው ከተማ ጥቅምት18፣1667 እ.ኤ.አ. (ጥቅምት 10፣ 1660) ከዚህ አለም በሞት ተለዩ። አስከሬናቸውም የአገሪቱ መላ ህዝብ ባዘነበት ሁኔታ በቅዱስ እስጢፋኖስ ገዳም፣ ጣና ሃይቅ ውስጥ ደጋ ደሴት ተብላ በምትታወቀው ደሴት የዘላለም እረፍት አገኘ።'}"
            ]
          },
          "metadata": {},
          "execution_count": 22
        }
      ]
    },
    {
      "cell_type": "code",
      "source": [
        "len(train_data), len(test_data), len(val_data)"
      ],
      "metadata": {
        "colab": {
          "base_uri": "https://localhost:8080/"
        },
        "id": "YIXFLbzKgIgY",
        "outputId": "20b533f6-5d4d-4fc5-d657-3010ec1352ae"
      },
      "execution_count": 23,
      "outputs": [
        {
          "output_type": "execute_result",
          "data": {
            "text/plain": [
              "(6715, 1440, 2520)"
            ]
          },
          "metadata": {},
          "execution_count": 23
        }
      ]
    },
    {
      "cell_type": "code",
      "source": [
        "# Let's halve the test and val data and add them to the training data\n",
        "half_val_size = len(val_data) // 2\n",
        "half_test_size = len(test_data) // 2\n",
        "\n",
        "# Select the first half of validation and test datasets\n",
        "val_data_half = val_data.select(range(half_val_size))\n",
        "val_data = val_data.select(range(half_val_size, len(val_data))) # the new val data\n",
        "test_data_half = test_data.select(range(half_test_size))\n",
        "test_data = test_data.select(range(half_test_size, len(test_data))) # the new test data\n",
        "\n",
        "train_data = concatenate_datasets([train_data, val_data_half, test_data_half])\n",
        "\n",
        "print(len(train_data), len(test_data), len(val_data))"
      ],
      "metadata": {
        "colab": {
          "base_uri": "https://localhost:8080/"
        },
        "id": "wys5yiohgMnd",
        "outputId": "36114203-2615-4851-f08c-96aca96888ce"
      },
      "execution_count": 24,
      "outputs": [
        {
          "output_type": "stream",
          "name": "stdout",
          "text": [
            "8695 720 1260\n"
          ]
        }
      ]
    },
    {
      "cell_type": "code",
      "source": [
        "import random\n",
        "\n",
        "def shuffle_dataset(dataset, seed=43):\n",
        "  \"\"\"Shuffles the given dataset in-place.\"\"\"\n",
        "  random.seed(seed) # for reproducibility\n",
        "  items = list(dataset)\n",
        "  random.shuffle(items)\n",
        "  return Dataset.from_list(items)\n",
        "\n",
        "train_data = shuffle_dataset(train_data)\n",
        "test_data = shuffle_dataset(test_data)\n",
        "val_data = shuffle_dataset(val_data)\n",
        "train_data[0]"
      ],
      "metadata": {
        "colab": {
          "base_uri": "https://localhost:8080/"
        },
        "id": "XfGIkhQY1CD3",
        "outputId": "29e22165-6c92-4430-830d-fac4db840cd8"
      },
      "execution_count": 25,
      "outputs": [
        {
          "output_type": "execute_result",
          "data": {
            "text/plain": [
              "{'anchor': 'በኢትዮጰጵያ የዲጂታል ኢኮኖሚውን ያጠናክራል ተብሎ የተቋቋመው የመረጃ ቁዋት ማዕከል ምን ይባላል?',\n",
              " 'positive': 'የዲጂታል ኢኮኖሚውን የሚያጠናክር ሬድፎክስ የተሰኘ የመረጃ ቋት ማዕከል ይፋ ሆነ፡፡ የገንዘብ ሚኒስትር ዴኤታ ዶክተር እዮብ ተካልኝ መረጃ አዲሱ ነዳጅ መሆኑን ገልጸው፣ የዲጂታል መሰረተ ልማቱ መጠናከር በጤና፣ በትምህርት፣ በግብርና እና በሌሎች መስኮች ላይ አስተዋጽኦን ያሳርፋል ብለዋል፡፡ ሬድፎክስ ለረጅም ዓመታት በቴሌኮም ዘርፍና በመረጃ ቴክኖሎጂ ልምድ ባካበቱ የኢትዮጵያ ዳያስፖራዎች የተቋቋመ መሆኑም ተገልጿል፡፡ ሚኒስትር ዲኤታው ዳያስፖራዎቸ በዘርፉ ላይ በመሰማራታቸው ያላቸውን አድናቆት መግለጻቸውን ከገንዘብ ሚኒስቴር ያገኘነው መረጃ ያመለክታል፡፡',\n",
              " 'negative': ' የቻይና ተመራማሪዎች እጅግ በጣም ከፍተኛ በሆነ የሙቀት ወቅት የአውሮፕላኖችን ሁኔታ መከታተል የሚያስችል ዘዴ ይፋ አደረጉ። አዲሱ ቴክኖሎጂ አውሮፕላኖች ከ800 እስከ 1 ሺህ 300 ዲግሪ ሴሊሺየስ ባለው የሙቀት መጠን ውስጥ ሲሰሩ በአውሮፕላኖቹ ውስጥ የሚከሰተውን መዋቅራዊ ብልሽት መለየት የሚያስችል መሆኑን ተመራማሪዎቹ ገልጸዋል። ይህም እጅግ ከፍተኛ የሆነ ሙቀትና ቅዝቃዜ ባለበት የአየር ንብረት ውስጥ የሚንቀሳቀሱ አውሮፕላኖችን አጠቃላይ ሁኔታ ለመከታተል የሚያግዝ ነው ተብሏል። ከዚህ ባለፈም አውሮፕላኑ በከፍተኛ ፍጥነት በሚበርበት ወቅት የሚያጋጥመውን ከፍተኛ ሙቀት ተቋቁሞ በረራውን መቀጠል ስለመቻል አለመቻሉም ለመወሰን እንደሚያግዝም ከተመራማሪዎቹ አንዱ የሆኑት ዋንግ ዚዮንግ ተናግረዋል። የአውሮፕላኖች አሰራር እጅግ ከፍተኛ በሆነ የሙቀት መጠን ውስጥ የሚደረግን በረራ መቋቋም ስለመቻል አለመቻሉ በመወሰን አዲስ ለሚሰራ የአውሮፕላን ንድፍ እንደ ማጣቀሻ ሆኖ ያገለግላልም ነው የተባለው። ከዚህ አንጻርም የአውሮፕላን አካላትን ንድፍ ለማሻሻል እንዲሁም ቀላል እና ብዙ ጭነቶችን መሸከም የሚችሉ አውሮፕላኖችን ለመስራት በሚደረገው ጥረት አስተዋጽኦ ሊኖረው እንደሚችልም ተገልጿል። ምንጭ፦ ሲ ጂ ቲ ኤን'}"
            ]
          },
          "metadata": {},
          "execution_count": 25
        }
      ]
    },
    {
      "cell_type": "code",
      "execution_count": 39,
      "metadata": {
        "id": "8y0ZT5CMCbI0"
      },
      "outputs": [],
      "source": [
        "# Option 1: Base XLM-R with PEFT\n",
        "\n",
        "# model_name = \"sentence-transformers/static-similarity-mrl-multilingual-v1\"\n",
        "# model_name= \"sentence-transformers/multi-qa-mpnet-base-cos-v1\" - FAILURE\n",
        "model_name = \"sentence-transformers/paraphrase-xlm-r-multilingual-v1\"\n",
        "# model_name = \"Pyjay/sentence-transformers-multilingual-snli-v2-500k\" - Works but is too big\n",
        "\n",
        "model = SentenceTransformer(\n",
        "    model_name,\n",
        "    model_card_data=SentenceTransformerModelCardData(\n",
        "        language=\"am\",\n",
        "        license=\"mit\",\n",
        "        model_name=f\"{model_name} adapter finetuned on Amharic QA triplets\",\n",
        "    ),)\n",
        "\n"
      ]
    },
    {
      "cell_type": "code",
      "source": [
        "sample_text = \"ውክፔዲያ ዓለምዓቀፍ የዕውቀት ማከማቻ ድረ-ገጽ ነው። ውክፔዲያ የጋራ ነው።\"\n",
        "tokens = model.tokenizer.tokenize(sample_text)\n",
        "print(\"Tokenization:\", tokens) # We might need to improve this later on, but it's working for now"
      ],
      "metadata": {
        "colab": {
          "base_uri": "https://localhost:8080/"
        },
        "id": "2UpFFETFK5tc",
        "outputId": "0f972a86-7067-4240-8143-8508b3d82c30"
      },
      "execution_count": 27,
      "outputs": [
        {
          "output_type": "stream",
          "name": "stdout",
          "text": [
            "Tokenization: ['▁', 'ው', 'ክ', 'ፔ', 'ዲያ', '▁ዓለም', 'ዓ', 'ቀ', 'ፍ', '▁የ', 'ዕውቀት', '▁ማ', 'ከ', 'ማ', 'ቻ', '▁ድረ', '-', 'ገ', 'ጽ', '▁ነው።', '▁', 'ው', 'ክ', 'ፔ', 'ዲያ', '▁የጋራ', '▁ነው።']\n"
          ]
        }
      ]
    },
    {
      "cell_type": "code",
      "source": [
        "from sklearn.metrics.pairwise import cosine_similarity\n",
        "import numpy as np\n",
        "\n",
        "def evaluate_model(model, model_name, anchor, candidates):\n",
        "    print(f\"\\n{'='*30} {model_name} {'='*30}\")\n",
        "    anchor_emb = model.encode([anchor])\n",
        "    candidate_embs = model.encode(candidates)\n",
        "\n",
        "    # Calculate similarities\n",
        "    similarities = cosine_similarity(anchor_emb, candidate_embs)[0]\n",
        "\n",
        "    # Print ranked results\n",
        "    ranked_indices = np.argsort(-similarities)\n",
        "    print(\"Original Sentence: \", anchor)\n",
        "    print(\"Sentence | Similarity Score\")\n",
        "    for idx in ranked_indices:\n",
        "        print(f\"{candidates[idx]} |  {similarities[idx]:.3f} \")"
      ],
      "metadata": {
        "id": "Y8ZjjqGOLEn6"
      },
      "execution_count": 28,
      "outputs": []
    },
    {
      "cell_type": "code",
      "source": [
        "query = \"ሰማይ ምን አይነት ቀለም ነው?\"\n",
        "docs = [\n",
        "    \"ሰማይ ሰማያዊ ቀለም አለው።\" ,\n",
        "    \"እኔ ምሳ እንጀራ በላሁ።\" ,\n",
        "    \"ባሕር ምን አይነት ቀለም ነው?\",\n",
        "    \"አየር በምድር ዙሪያ ያለ ነው።\"\n",
        "]\n",
        "\n",
        "evaluate_model(model, \"Original Model Performance: Sentence Similarity\", query, docs)"
      ],
      "metadata": {
        "colab": {
          "base_uri": "https://localhost:8080/"
        },
        "id": "X6O2TLgVLG3N",
        "outputId": "c09882cb-45fc-44ab-ef80-4955c769fcb8"
      },
      "execution_count": 29,
      "outputs": [
        {
          "output_type": "stream",
          "name": "stdout",
          "text": [
            "\n",
            "============================== Original Model Performance: Sentence Similarity ==============================\n",
            "Original Sentence:  ሰማይ ምን አይነት ቀለም ነው?\n",
            "Sentence | Similarity Score\n",
            "ባሕር ምን አይነት ቀለም ነው? |  0.764 \n",
            "ሰማይ ሰማያዊ ቀለም አለው። |  0.540 \n",
            "አየር በምድር ዙሪያ ያለ ነው። |  0.442 \n",
            "እኔ ምሳ እንጀራ በላሁ። |  0.126 \n"
          ]
        }
      ]
    },
    {
      "cell_type": "code",
      "source": [
        "loss = losses.MatryoshkaLoss(\n",
        "    model,\n",
        "    losses.TripletLoss(model, triplet_margin=0.5),\n",
        "    matryoshka_dims=[768, 512, 256],\n",
        "    matryoshka_weights=[0.5, 0.4, 0.2]\n",
        "  )\n",
        "\n",
        "evaluator = evaluation.TripletEvaluator(\n",
        "    anchors=val_data[\"anchor\"],\n",
        "    positives=val_data[\"positive\"],\n",
        "    negatives=val_data[\"negative\"],\n",
        ")\n"
      ],
      "metadata": {
        "id": "QmCgB7Zjz6sQ"
      },
      "execution_count": 40,
      "outputs": []
    },
    {
      "cell_type": "code",
      "execution_count": 43,
      "metadata": {
        "id": "qSG6VUfBDdfI"
      },
      "outputs": [],
      "source": [
        "args = SentenceTransformerTrainingArguments(\n",
        "    output_dir=\"amharic-retrieval-ft\",\n",
        "    num_train_epochs=3,\n",
        "    per_device_train_batch_size=16,  # Leverages T4's 16GB VRAM\n",
        "    fp16=True,\n",
        "    learning_rate=1e-6,\n",
        "    warmup_ratio=0.08,\n",
        "    weight_decay=0.05,\n",
        "    logging_dir=\"logs\",\n",
        "    logging_steps=100,\n",
        "    eval_strategy=\"steps\",\n",
        "    eval_steps=300,\n",
        "    save_strategy=\"epoch\",\n",
        "    report_to=\"tensorboard\",\n",
        ")"
      ]
    },
    {
      "cell_type": "code",
      "execution_count": 44,
      "metadata": {
        "id": "xSQHqL20EmAt"
      },
      "outputs": [],
      "source": [
        "trainer = SentenceTransformerTrainer(\n",
        "    model=model,\n",
        "    args=args,\n",
        "    train_dataset=train_data,\n",
        "    eval_dataset=val_data,\n",
        "    loss=loss,\n",
        "    evaluator=evaluator, # let's keep the embedding similary evaluation away for now (atleast I get a hung of it)\n",
        ")"
      ]
    },
    {
      "cell_type": "code",
      "execution_count": 45,
      "metadata": {
        "colab": {
          "base_uri": "https://localhost:8080/",
          "height": 267,
          "referenced_widgets": [
            "75e10256136245fcbb05d4681b11ff21",
            "bdf47d4fdb374c8093ae8ab2286c7bd6",
            "a9a455ab457b4be29b4bcbc8c1317c32",
            "14a5b8b310a54f0e8f170e8db0cf3dfa",
            "99dbc488e1434dae96fcbb2430d9d077",
            "02014bbd84a04ffc8321f3e45068ec3e",
            "083bed366298413ba429dd617e48efb7",
            "c55abcc4f7de44bcad51f6ea56841479",
            "43be522a5425422295cb7ccc52bdad00",
            "dfe6adaf3f9143a880954cdd7bb3ec16",
            "eb7a9aed55de457fb596e6db0d9e01cd"
          ]
        },
        "id": "h0gy9_NrFG19",
        "outputId": "7d1e022b-2d50-41c7-c61d-bf04002a50a8"
      },
      "outputs": [
        {
          "output_type": "display_data",
          "data": {
            "text/plain": [
              "<IPython.core.display.HTML object>"
            ],
            "text/html": [
              "\n",
              "    <div>\n",
              "      \n",
              "      <progress value='1632' max='1632' style='width:300px; height:20px; vertical-align: middle;'></progress>\n",
              "      [1632/1632 14:26, Epoch 3/3]\n",
              "    </div>\n",
              "    <table border=\"1\" class=\"dataframe\">\n",
              "  <thead>\n",
              " <tr style=\"text-align: left;\">\n",
              "      <th>Step</th>\n",
              "      <th>Training Loss</th>\n",
              "      <th>Validation Loss</th>\n",
              "      <th>Cosine Accuracy</th>\n",
              "    </tr>\n",
              "  </thead>\n",
              "  <tbody>\n",
              "    <tr>\n",
              "      <td>300</td>\n",
              "      <td>0.220100</td>\n",
              "      <td>0.262586</td>\n",
              "      <td>0.888095</td>\n",
              "    </tr>\n",
              "    <tr>\n",
              "      <td>600</td>\n",
              "      <td>0.145300</td>\n",
              "      <td>0.228679</td>\n",
              "      <td>0.884921</td>\n",
              "    </tr>\n",
              "    <tr>\n",
              "      <td>900</td>\n",
              "      <td>0.123100</td>\n",
              "      <td>0.213432</td>\n",
              "      <td>0.888889</td>\n",
              "    </tr>\n",
              "    <tr>\n",
              "      <td>1200</td>\n",
              "      <td>0.112800</td>\n",
              "      <td>0.207012</td>\n",
              "      <td>0.890476</td>\n",
              "    </tr>\n",
              "    <tr>\n",
              "      <td>1500</td>\n",
              "      <td>0.105300</td>\n",
              "      <td>0.202323</td>\n",
              "      <td>0.889683</td>\n",
              "    </tr>\n",
              "  </tbody>\n",
              "</table><p>"
            ]
          },
          "metadata": {}
        },
        {
          "output_type": "display_data",
          "data": {
            "text/plain": [
              "Computing widget examples:   0%|          | 0/1 [00:00<?, ?example/s]"
            ],
            "application/vnd.jupyter.widget-view+json": {
              "version_major": 2,
              "version_minor": 0,
              "model_id": "75e10256136245fcbb05d4681b11ff21"
            }
          },
          "metadata": {}
        },
        {
          "output_type": "execute_result",
          "data": {
            "text/plain": [
              "TrainOutput(global_step=1632, training_loss=0.15497594268298617, metrics={'train_runtime': 866.6959, 'train_samples_per_second': 30.097, 'train_steps_per_second': 1.883, 'total_flos': 0.0, 'train_loss': 0.15497594268298617, 'epoch': 3.0})"
            ]
          },
          "metadata": {},
          "execution_count": 45
        }
      ],
      "source": [
        "trainer.train()"
      ]
    },
    {
      "cell_type": "code",
      "source": [
        "model_4 = SentenceTransformer(\"/content/amharic-retrieval-ft/checkpoint-1188\")"
      ],
      "metadata": {
        "id": "-d-7OmcquqEf"
      },
      "execution_count": 76,
      "outputs": []
    },
    {
      "cell_type": "code",
      "source": [
        "from sentence_transformers import evaluation\n",
        "\n",
        "# Create a TripletEvaluator for the test set\n",
        "test_evaluator = evaluation.TripletEvaluator(\n",
        "    anchors=test_data[\"anchor\"],\n",
        "    positives=test_data[\"positive\"],\n",
        "    negatives=test_data[\"negative\"],\n",
        "    name=\"TestTripletEvaluator\"\n",
        ")\n",
        "\n",
        "# Evaluate the model on the test dataset\n",
        "test_score = test_evaluator(model)\n",
        "print(f\"Test Triplet Evaluation Score: {test_score['TestTripletEvaluator_cosine_accuracy']:.4f}\")"
      ],
      "metadata": {
        "colab": {
          "base_uri": "https://localhost:8080/"
        },
        "id": "gWh6ABON6Hb7",
        "outputId": "602da8d9-df60-435b-a068-75bb54b46ed8"
      },
      "execution_count": 46,
      "outputs": [
        {
          "output_type": "stream",
          "name": "stdout",
          "text": [
            "Test Triplet Evaluation Score: 0.8750\n"
          ]
        }
      ]
    },
    {
      "cell_type": "code",
      "source": [
        "# Evaluate the model on the test dataset\n",
        "test_score = test_evaluator(model_4)\n",
        "print(f\"Test Triplet Evaluation Score: {test_score['TestTripletEvaluator_cosine_accuracy']:.4f}\")"
      ],
      "metadata": {
        "colab": {
          "base_uri": "https://localhost:8080/"
        },
        "id": "WRhqcU9KvdyE",
        "outputId": "c83766d3-cfcc-496f-9654-ce487d61120f"
      },
      "execution_count": 78,
      "outputs": [
        {
          "output_type": "stream",
          "name": "stdout",
          "text": [
            "Test Triplet Evaluation Score: 0.8750\n"
          ]
        }
      ]
    },
    {
      "cell_type": "code",
      "execution_count": 47,
      "metadata": {
        "id": "f8VDy0akFJ3Q"
      },
      "outputs": [],
      "source": [
        "model_name = \"xlm-r-retrieval-am-v2\"\n",
        "model.save(\"model/xlm-r-retrieval-am-v2\")"
      ]
    },
    {
      "cell_type": "code",
      "source": [
        "tokenizer = model.tokenizer\n",
        "tokenizer.save_pretrained(\"model/xlm-r-retrieval-am-v2\")"
      ],
      "metadata": {
        "colab": {
          "base_uri": "https://localhost:8080/"
        },
        "id": "yvcuCchdqYan",
        "outputId": "938b3fa5-240c-41ae-f7a5-ec8d6318a364"
      },
      "execution_count": 54,
      "outputs": [
        {
          "output_type": "execute_result",
          "data": {
            "text/plain": [
              "('model/xlm-r-retrieval-am-v2/tokenizer_config.json',\n",
              " 'model/xlm-r-retrieval-am-v2/special_tokens_map.json',\n",
              " 'model/xlm-r-retrieval-am-v2/sentencepiece.bpe.model',\n",
              " 'model/xlm-r-retrieval-am-v2/added_tokens.json',\n",
              " 'model/xlm-r-retrieval-am-v2/tokenizer.json')"
            ]
          },
          "metadata": {},
          "execution_count": 54
        }
      ]
    },
    {
      "cell_type": "code",
      "source": [
        "# prompt: copy \"model/am-xlmr-ft-v-1.0\" to my drive\n",
        "\n",
        "import shutil\n",
        "import os\n",
        "\n",
        "# Assuming 'model/am-xlmr-ft-v-1.0' exists in your current Colab environment\n",
        "source_dir = f\"model/{model_name}\"\n",
        "destination_dir = f\"/content/drive/MyDrive/models/{model_name}\"  # Specify the destination path in your Google Drive\n",
        "\n",
        "if os.path.exists(destination_dir):\n",
        "    shutil.rmtree(destination_dir)\n",
        "\n",
        "try:\n",
        "  shutil.copytree(source_dir, destination_dir)\n",
        "  print(f\"Successfully copied '{source_dir}' to '{destination_dir}'\")\n",
        "except FileExistsError:\n",
        "  print(f\"Destination directory '{destination_dir}' already exists.  Skipping copy.\")\n",
        "except FileNotFoundError:\n",
        "    print(f\"Source directory '{source_dir}' not found. Please ensure the model directory exists.\")\n",
        "except Exception as e:\n",
        "  print(f\"An error occurred: {e}\")"
      ],
      "metadata": {
        "colab": {
          "base_uri": "https://localhost:8080/"
        },
        "id": "fZABxP1SWeXf",
        "outputId": "08dba717-aa06-4361-896d-c020c9143fc8"
      },
      "execution_count": 55,
      "outputs": [
        {
          "output_type": "stream",
          "name": "stdout",
          "text": [
            "Successfully copied 'model/xlm-r-retrieval-am-v2' to '/content/drive/MyDrive/models/xlm-r-retrieval-am-v2'\n"
          ]
        }
      ]
    },
    {
      "cell_type": "code",
      "execution_count": 56,
      "metadata": {
        "colab": {
          "base_uri": "https://localhost:8080/"
        },
        "id": "zEH_5u_8ORNI",
        "outputId": "e445eaa3-9faa-4f6e-8cea-4ddd6f30d5be"
      },
      "outputs": [
        {
          "output_type": "stream",
          "name": "stdout",
          "text": [
            "\n",
            "============================== Fine-Tuned Performance: Sentence Similarity ==============================\n",
            "Original Sentence:  ሰማይ ምን አይነት ቀለም ነው?\n",
            "Sentence | Similarity Score\n",
            "ሰማይ ሰማያዊ ቀለም አለው። |  0.748 \n",
            "ባሕር ምን አይነት ቀለም ነው? |  0.646 \n",
            "አየር በምድር ዙሪያ ያለ ነው። |  0.634 \n",
            "እኔ ምሳ እንጀራ በላሁ። |  0.077 \n"
          ]
        }
      ],
      "source": [
        "evaluate_model(model, \"Fine-Tuned Performance: Sentence Similarity\", query, docs)"
      ]
    },
    {
      "cell_type": "code",
      "source": [
        "evaluate_model(model_4, \"Fine-Tuned Performance: Sentence Similarity\", query, docs)"
      ],
      "metadata": {
        "colab": {
          "base_uri": "https://localhost:8080/"
        },
        "id": "TJzbvgdMubUk",
        "outputId": "11f8087a-ecb3-4059-fff6-1c991fbaae7e"
      },
      "execution_count": 77,
      "outputs": [
        {
          "output_type": "stream",
          "name": "stdout",
          "text": [
            "\n",
            "============================== Fine-Tuned Performance: Sentence Similarity ==============================\n",
            "Original Sentence:  ሰማይ ምን አይነት ቀለም ነው?\n",
            "Sentence | Similarity Score\n",
            "ሰማይ ሰማያዊ ቀለም አለው። |  0.871 \n",
            "አየር በምድር ዙሪያ ያለ ነው። |  0.698 \n",
            "ባሕር ምን አይነት ቀለም ነው? |  0.583 \n",
            "እኔ ምሳ እንጀራ በላሁ። |  0.078 \n"
          ]
        }
      ]
    },
    {
      "cell_type": "code",
      "source": [
        "model_4.push_to_hub(\"xlm-r-retrieval-am-v5\")\n",
        "# model.tokenizer.push_to_hub(\"xlm-r-retrieval-am-v4\")"
      ],
      "metadata": {
        "id": "fSh1C4k-WMgZ",
        "colab": {
          "base_uri": "https://localhost:8080/",
          "height": 163,
          "referenced_widgets": [
            "3e9eb402c086450cb3af5a98f3ae79ba",
            "a77ff31d30f04e0fb4bbd6373f06ae48",
            "0d845561cf5741038e690402a8614518",
            "e244ddd468ff4a66a143709eb9f956b7",
            "13201740af6d4816ba02068805ebc4d0",
            "6a44f0e9514747818dad398d25234cac",
            "82716c51721743f69e98c566cb0f8399",
            "4eb6c5ff67d448a087cc8bd8e3d08ed5",
            "a696ab96ef0742cc8a65ffdde03ad882",
            "89fa37e1aa89417c8a57274b8c0be187",
            "967919d0b2174355bdf6c34a65ebdd07",
            "381e266805744a4394fc547d94033cf2",
            "bba10d10534f441e8284782568ba4982",
            "9c8a60d05fd64d83bd89f983a29495f4",
            "38b0a01150e94a22971ad83a3dd13ecd",
            "8349913659ae4630a09ed097a3e423ee",
            "a5d0d9a006d14173b00b5b7ae77047d2",
            "36238491779e40b5a08c5dd128a4ce27",
            "c3ae4a84860244b68d8707efa034a3ca",
            "489b601b75d547909b49a6e1cade6ce5",
            "6d3fdc242285401abe36b934052a8357",
            "30d656dd6b894502a4e5a96e39a222d4",
            "ef7b7fe1d2c04d3e83259c04b620ac77",
            "3c3a00abec6f4ba4b24b3e57786f8aea",
            "dee9cacc574a4bf5921440ccdc767276",
            "8dbeaac2f90746f0a1d98ae33a65281f",
            "8bb1aaf2663d43fdb8ac0d6f7901ff5a",
            "1a2c231989f2488b9f93fe8ac0df7428",
            "a193a162103b46d69e0381061b6674af",
            "80368b824dd24b0483d921769884fdd2",
            "46e4b10da36d48f2a06c4b70646ecb97",
            "259c5fb7511a4c749c48282d52a4a276",
            "ea7ad34e31ca429d894efd65904a9b12",
            "deeedf7192fe460fb3830d9517e7aa70",
            "caf6d9110dfc4956b953b6bcfff2f7dc",
            "c885e6102f6f48ab814d9a8db3bdfacb",
            "18578f97adf44bc49a64189ad4fb1a11",
            "41fa90a18b0a463c9f1afa6973f67278",
            "6729df26e59f4ea8a680645e21836897",
            "0887356212694e7e81c250e7887a6921",
            "bd2c2fe35bce4e789b808732c24ca1e5",
            "229e20f7e17948ce85a5e0e844637334",
            "6bd8e6c0c491486f89e65bf4e12ad93f",
            "fe30e051449e4123b0c360ab0532ba9a"
          ]
        },
        "outputId": "807ca42f-f44c-4ad7-883d-13af68098efb"
      },
      "execution_count": 80,
      "outputs": [
        {
          "output_type": "display_data",
          "data": {
            "text/plain": [
              "model.safetensors:   0%|          | 0.00/1.11G [00:00<?, ?B/s]"
            ],
            "application/vnd.jupyter.widget-view+json": {
              "version_major": 2,
              "version_minor": 0,
              "model_id": "3e9eb402c086450cb3af5a98f3ae79ba"
            }
          },
          "metadata": {}
        },
        {
          "output_type": "display_data",
          "data": {
            "text/plain": [
              "sentencepiece.bpe.model:   0%|          | 0.00/5.07M [00:00<?, ?B/s]"
            ],
            "application/vnd.jupyter.widget-view+json": {
              "version_major": 2,
              "version_minor": 0,
              "model_id": "381e266805744a4394fc547d94033cf2"
            }
          },
          "metadata": {}
        },
        {
          "output_type": "display_data",
          "data": {
            "text/plain": [
              "Upload 3 LFS files:   0%|          | 0/3 [00:00<?, ?it/s]"
            ],
            "application/vnd.jupyter.widget-view+json": {
              "version_major": 2,
              "version_minor": 0,
              "model_id": "ef7b7fe1d2c04d3e83259c04b620ac77"
            }
          },
          "metadata": {}
        },
        {
          "output_type": "display_data",
          "data": {
            "text/plain": [
              "tokenizer.json:   0%|          | 0.00/17.1M [00:00<?, ?B/s]"
            ],
            "application/vnd.jupyter.widget-view+json": {
              "version_major": 2,
              "version_minor": 0,
              "model_id": "deeedf7192fe460fb3830d9517e7aa70"
            }
          },
          "metadata": {}
        },
        {
          "output_type": "execute_result",
          "data": {
            "text/plain": [
              "'https://huggingface.co/abdulmunimjemal/xlm-r-retrieval-am-v5/commit/da866785159fe55446af59c6760869751370795b'"
            ],
            "application/vnd.google.colaboratory.intrinsic+json": {
              "type": "string"
            }
          },
          "metadata": {},
          "execution_count": 80
        }
      ]
    },
    {
      "cell_type": "code",
      "source": [],
      "metadata": {
        "id": "dnfGvcPRsU-t"
      },
      "execution_count": null,
      "outputs": []
    }
  ],
  "metadata": {
    "accelerator": "GPU",
    "colab": {
      "gpuType": "T4",
      "provenance": []
    },
    "kernelspec": {
      "display_name": "Python 3",
      "name": "python3"
    },
    "language_info": {
      "name": "python"
    },
    "widgets": {
      "application/vnd.jupyter.widget-state+json": {
        "75e10256136245fcbb05d4681b11ff21": {
          "model_module": "@jupyter-widgets/controls",
          "model_name": "HBoxModel",
          "model_module_version": "1.5.0",
          "state": {
            "_dom_classes": [],
            "_model_module": "@jupyter-widgets/controls",
            "_model_module_version": "1.5.0",
            "_model_name": "HBoxModel",
            "_view_count": null,
            "_view_module": "@jupyter-widgets/controls",
            "_view_module_version": "1.5.0",
            "_view_name": "HBoxView",
            "box_style": "",
            "children": [
              "IPY_MODEL_bdf47d4fdb374c8093ae8ab2286c7bd6",
              "IPY_MODEL_a9a455ab457b4be29b4bcbc8c1317c32",
              "IPY_MODEL_14a5b8b310a54f0e8f170e8db0cf3dfa"
            ],
            "layout": "IPY_MODEL_99dbc488e1434dae96fcbb2430d9d077"
          }
        },
        "bdf47d4fdb374c8093ae8ab2286c7bd6": {
          "model_module": "@jupyter-widgets/controls",
          "model_name": "HTMLModel",
          "model_module_version": "1.5.0",
          "state": {
            "_dom_classes": [],
            "_model_module": "@jupyter-widgets/controls",
            "_model_module_version": "1.5.0",
            "_model_name": "HTMLModel",
            "_view_count": null,
            "_view_module": "@jupyter-widgets/controls",
            "_view_module_version": "1.5.0",
            "_view_name": "HTMLView",
            "description": "",
            "description_tooltip": null,
            "layout": "IPY_MODEL_02014bbd84a04ffc8321f3e45068ec3e",
            "placeholder": "​",
            "style": "IPY_MODEL_083bed366298413ba429dd617e48efb7",
            "value": "Computing widget examples: 100%"
          }
        },
        "a9a455ab457b4be29b4bcbc8c1317c32": {
          "model_module": "@jupyter-widgets/controls",
          "model_name": "FloatProgressModel",
          "model_module_version": "1.5.0",
          "state": {
            "_dom_classes": [],
            "_model_module": "@jupyter-widgets/controls",
            "_model_module_version": "1.5.0",
            "_model_name": "FloatProgressModel",
            "_view_count": null,
            "_view_module": "@jupyter-widgets/controls",
            "_view_module_version": "1.5.0",
            "_view_name": "ProgressView",
            "bar_style": "",
            "description": "",
            "description_tooltip": null,
            "layout": "IPY_MODEL_c55abcc4f7de44bcad51f6ea56841479",
            "max": 1,
            "min": 0,
            "orientation": "horizontal",
            "style": "IPY_MODEL_43be522a5425422295cb7ccc52bdad00",
            "value": 1
          }
        },
        "14a5b8b310a54f0e8f170e8db0cf3dfa": {
          "model_module": "@jupyter-widgets/controls",
          "model_name": "HTMLModel",
          "model_module_version": "1.5.0",
          "state": {
            "_dom_classes": [],
            "_model_module": "@jupyter-widgets/controls",
            "_model_module_version": "1.5.0",
            "_model_name": "HTMLModel",
            "_view_count": null,
            "_view_module": "@jupyter-widgets/controls",
            "_view_module_version": "1.5.0",
            "_view_name": "HTMLView",
            "description": "",
            "description_tooltip": null,
            "layout": "IPY_MODEL_dfe6adaf3f9143a880954cdd7bb3ec16",
            "placeholder": "​",
            "style": "IPY_MODEL_eb7a9aed55de457fb596e6db0d9e01cd",
            "value": " 1/1 [00:00&lt;00:00,  8.77example/s]"
          }
        },
        "99dbc488e1434dae96fcbb2430d9d077": {
          "model_module": "@jupyter-widgets/base",
          "model_name": "LayoutModel",
          "model_module_version": "1.2.0",
          "state": {
            "_model_module": "@jupyter-widgets/base",
            "_model_module_version": "1.2.0",
            "_model_name": "LayoutModel",
            "_view_count": null,
            "_view_module": "@jupyter-widgets/base",
            "_view_module_version": "1.2.0",
            "_view_name": "LayoutView",
            "align_content": null,
            "align_items": null,
            "align_self": null,
            "border": null,
            "bottom": null,
            "display": null,
            "flex": null,
            "flex_flow": null,
            "grid_area": null,
            "grid_auto_columns": null,
            "grid_auto_flow": null,
            "grid_auto_rows": null,
            "grid_column": null,
            "grid_gap": null,
            "grid_row": null,
            "grid_template_areas": null,
            "grid_template_columns": null,
            "grid_template_rows": null,
            "height": null,
            "justify_content": null,
            "justify_items": null,
            "left": null,
            "margin": null,
            "max_height": null,
            "max_width": null,
            "min_height": null,
            "min_width": null,
            "object_fit": null,
            "object_position": null,
            "order": null,
            "overflow": null,
            "overflow_x": null,
            "overflow_y": null,
            "padding": null,
            "right": null,
            "top": null,
            "visibility": "hidden",
            "width": null
          }
        },
        "02014bbd84a04ffc8321f3e45068ec3e": {
          "model_module": "@jupyter-widgets/base",
          "model_name": "LayoutModel",
          "model_module_version": "1.2.0",
          "state": {
            "_model_module": "@jupyter-widgets/base",
            "_model_module_version": "1.2.0",
            "_model_name": "LayoutModel",
            "_view_count": null,
            "_view_module": "@jupyter-widgets/base",
            "_view_module_version": "1.2.0",
            "_view_name": "LayoutView",
            "align_content": null,
            "align_items": null,
            "align_self": null,
            "border": null,
            "bottom": null,
            "display": null,
            "flex": null,
            "flex_flow": null,
            "grid_area": null,
            "grid_auto_columns": null,
            "grid_auto_flow": null,
            "grid_auto_rows": null,
            "grid_column": null,
            "grid_gap": null,
            "grid_row": null,
            "grid_template_areas": null,
            "grid_template_columns": null,
            "grid_template_rows": null,
            "height": null,
            "justify_content": null,
            "justify_items": null,
            "left": null,
            "margin": null,
            "max_height": null,
            "max_width": null,
            "min_height": null,
            "min_width": null,
            "object_fit": null,
            "object_position": null,
            "order": null,
            "overflow": null,
            "overflow_x": null,
            "overflow_y": null,
            "padding": null,
            "right": null,
            "top": null,
            "visibility": null,
            "width": null
          }
        },
        "083bed366298413ba429dd617e48efb7": {
          "model_module": "@jupyter-widgets/controls",
          "model_name": "DescriptionStyleModel",
          "model_module_version": "1.5.0",
          "state": {
            "_model_module": "@jupyter-widgets/controls",
            "_model_module_version": "1.5.0",
            "_model_name": "DescriptionStyleModel",
            "_view_count": null,
            "_view_module": "@jupyter-widgets/base",
            "_view_module_version": "1.2.0",
            "_view_name": "StyleView",
            "description_width": ""
          }
        },
        "c55abcc4f7de44bcad51f6ea56841479": {
          "model_module": "@jupyter-widgets/base",
          "model_name": "LayoutModel",
          "model_module_version": "1.2.0",
          "state": {
            "_model_module": "@jupyter-widgets/base",
            "_model_module_version": "1.2.0",
            "_model_name": "LayoutModel",
            "_view_count": null,
            "_view_module": "@jupyter-widgets/base",
            "_view_module_version": "1.2.0",
            "_view_name": "LayoutView",
            "align_content": null,
            "align_items": null,
            "align_self": null,
            "border": null,
            "bottom": null,
            "display": null,
            "flex": null,
            "flex_flow": null,
            "grid_area": null,
            "grid_auto_columns": null,
            "grid_auto_flow": null,
            "grid_auto_rows": null,
            "grid_column": null,
            "grid_gap": null,
            "grid_row": null,
            "grid_template_areas": null,
            "grid_template_columns": null,
            "grid_template_rows": null,
            "height": null,
            "justify_content": null,
            "justify_items": null,
            "left": null,
            "margin": null,
            "max_height": null,
            "max_width": null,
            "min_height": null,
            "min_width": null,
            "object_fit": null,
            "object_position": null,
            "order": null,
            "overflow": null,
            "overflow_x": null,
            "overflow_y": null,
            "padding": null,
            "right": null,
            "top": null,
            "visibility": null,
            "width": null
          }
        },
        "43be522a5425422295cb7ccc52bdad00": {
          "model_module": "@jupyter-widgets/controls",
          "model_name": "ProgressStyleModel",
          "model_module_version": "1.5.0",
          "state": {
            "_model_module": "@jupyter-widgets/controls",
            "_model_module_version": "1.5.0",
            "_model_name": "ProgressStyleModel",
            "_view_count": null,
            "_view_module": "@jupyter-widgets/base",
            "_view_module_version": "1.2.0",
            "_view_name": "StyleView",
            "bar_color": null,
            "description_width": ""
          }
        },
        "dfe6adaf3f9143a880954cdd7bb3ec16": {
          "model_module": "@jupyter-widgets/base",
          "model_name": "LayoutModel",
          "model_module_version": "1.2.0",
          "state": {
            "_model_module": "@jupyter-widgets/base",
            "_model_module_version": "1.2.0",
            "_model_name": "LayoutModel",
            "_view_count": null,
            "_view_module": "@jupyter-widgets/base",
            "_view_module_version": "1.2.0",
            "_view_name": "LayoutView",
            "align_content": null,
            "align_items": null,
            "align_self": null,
            "border": null,
            "bottom": null,
            "display": null,
            "flex": null,
            "flex_flow": null,
            "grid_area": null,
            "grid_auto_columns": null,
            "grid_auto_flow": null,
            "grid_auto_rows": null,
            "grid_column": null,
            "grid_gap": null,
            "grid_row": null,
            "grid_template_areas": null,
            "grid_template_columns": null,
            "grid_template_rows": null,
            "height": null,
            "justify_content": null,
            "justify_items": null,
            "left": null,
            "margin": null,
            "max_height": null,
            "max_width": null,
            "min_height": null,
            "min_width": null,
            "object_fit": null,
            "object_position": null,
            "order": null,
            "overflow": null,
            "overflow_x": null,
            "overflow_y": null,
            "padding": null,
            "right": null,
            "top": null,
            "visibility": null,
            "width": null
          }
        },
        "eb7a9aed55de457fb596e6db0d9e01cd": {
          "model_module": "@jupyter-widgets/controls",
          "model_name": "DescriptionStyleModel",
          "model_module_version": "1.5.0",
          "state": {
            "_model_module": "@jupyter-widgets/controls",
            "_model_module_version": "1.5.0",
            "_model_name": "DescriptionStyleModel",
            "_view_count": null,
            "_view_module": "@jupyter-widgets/base",
            "_view_module_version": "1.2.0",
            "_view_name": "StyleView",
            "description_width": ""
          }
        },
        "3e9eb402c086450cb3af5a98f3ae79ba": {
          "model_module": "@jupyter-widgets/controls",
          "model_name": "HBoxModel",
          "model_module_version": "1.5.0",
          "state": {
            "_dom_classes": [],
            "_model_module": "@jupyter-widgets/controls",
            "_model_module_version": "1.5.0",
            "_model_name": "HBoxModel",
            "_view_count": null,
            "_view_module": "@jupyter-widgets/controls",
            "_view_module_version": "1.5.0",
            "_view_name": "HBoxView",
            "box_style": "",
            "children": [
              "IPY_MODEL_a77ff31d30f04e0fb4bbd6373f06ae48",
              "IPY_MODEL_0d845561cf5741038e690402a8614518",
              "IPY_MODEL_e244ddd468ff4a66a143709eb9f956b7"
            ],
            "layout": "IPY_MODEL_13201740af6d4816ba02068805ebc4d0"
          }
        },
        "a77ff31d30f04e0fb4bbd6373f06ae48": {
          "model_module": "@jupyter-widgets/controls",
          "model_name": "HTMLModel",
          "model_module_version": "1.5.0",
          "state": {
            "_dom_classes": [],
            "_model_module": "@jupyter-widgets/controls",
            "_model_module_version": "1.5.0",
            "_model_name": "HTMLModel",
            "_view_count": null,
            "_view_module": "@jupyter-widgets/controls",
            "_view_module_version": "1.5.0",
            "_view_name": "HTMLView",
            "description": "",
            "description_tooltip": null,
            "layout": "IPY_MODEL_6a44f0e9514747818dad398d25234cac",
            "placeholder": "​",
            "style": "IPY_MODEL_82716c51721743f69e98c566cb0f8399",
            "value": "model.safetensors: 100%"
          }
        },
        "0d845561cf5741038e690402a8614518": {
          "model_module": "@jupyter-widgets/controls",
          "model_name": "FloatProgressModel",
          "model_module_version": "1.5.0",
          "state": {
            "_dom_classes": [],
            "_model_module": "@jupyter-widgets/controls",
            "_model_module_version": "1.5.0",
            "_model_name": "FloatProgressModel",
            "_view_count": null,
            "_view_module": "@jupyter-widgets/controls",
            "_view_module_version": "1.5.0",
            "_view_name": "ProgressView",
            "bar_style": "success",
            "description": "",
            "description_tooltip": null,
            "layout": "IPY_MODEL_4eb6c5ff67d448a087cc8bd8e3d08ed5",
            "max": 1112197096,
            "min": 0,
            "orientation": "horizontal",
            "style": "IPY_MODEL_a696ab96ef0742cc8a65ffdde03ad882",
            "value": 1112197096
          }
        },
        "e244ddd468ff4a66a143709eb9f956b7": {
          "model_module": "@jupyter-widgets/controls",
          "model_name": "HTMLModel",
          "model_module_version": "1.5.0",
          "state": {
            "_dom_classes": [],
            "_model_module": "@jupyter-widgets/controls",
            "_model_module_version": "1.5.0",
            "_model_name": "HTMLModel",
            "_view_count": null,
            "_view_module": "@jupyter-widgets/controls",
            "_view_module_version": "1.5.0",
            "_view_name": "HTMLView",
            "description": "",
            "description_tooltip": null,
            "layout": "IPY_MODEL_89fa37e1aa89417c8a57274b8c0be187",
            "placeholder": "​",
            "style": "IPY_MODEL_967919d0b2174355bdf6c34a65ebdd07",
            "value": " 1.11G/1.11G [00:32&lt;00:00, 34.5MB/s]"
          }
        },
        "13201740af6d4816ba02068805ebc4d0": {
          "model_module": "@jupyter-widgets/base",
          "model_name": "LayoutModel",
          "model_module_version": "1.2.0",
          "state": {
            "_model_module": "@jupyter-widgets/base",
            "_model_module_version": "1.2.0",
            "_model_name": "LayoutModel",
            "_view_count": null,
            "_view_module": "@jupyter-widgets/base",
            "_view_module_version": "1.2.0",
            "_view_name": "LayoutView",
            "align_content": null,
            "align_items": null,
            "align_self": null,
            "border": null,
            "bottom": null,
            "display": null,
            "flex": null,
            "flex_flow": null,
            "grid_area": null,
            "grid_auto_columns": null,
            "grid_auto_flow": null,
            "grid_auto_rows": null,
            "grid_column": null,
            "grid_gap": null,
            "grid_row": null,
            "grid_template_areas": null,
            "grid_template_columns": null,
            "grid_template_rows": null,
            "height": null,
            "justify_content": null,
            "justify_items": null,
            "left": null,
            "margin": null,
            "max_height": null,
            "max_width": null,
            "min_height": null,
            "min_width": null,
            "object_fit": null,
            "object_position": null,
            "order": null,
            "overflow": null,
            "overflow_x": null,
            "overflow_y": null,
            "padding": null,
            "right": null,
            "top": null,
            "visibility": null,
            "width": null
          }
        },
        "6a44f0e9514747818dad398d25234cac": {
          "model_module": "@jupyter-widgets/base",
          "model_name": "LayoutModel",
          "model_module_version": "1.2.0",
          "state": {
            "_model_module": "@jupyter-widgets/base",
            "_model_module_version": "1.2.0",
            "_model_name": "LayoutModel",
            "_view_count": null,
            "_view_module": "@jupyter-widgets/base",
            "_view_module_version": "1.2.0",
            "_view_name": "LayoutView",
            "align_content": null,
            "align_items": null,
            "align_self": null,
            "border": null,
            "bottom": null,
            "display": null,
            "flex": null,
            "flex_flow": null,
            "grid_area": null,
            "grid_auto_columns": null,
            "grid_auto_flow": null,
            "grid_auto_rows": null,
            "grid_column": null,
            "grid_gap": null,
            "grid_row": null,
            "grid_template_areas": null,
            "grid_template_columns": null,
            "grid_template_rows": null,
            "height": null,
            "justify_content": null,
            "justify_items": null,
            "left": null,
            "margin": null,
            "max_height": null,
            "max_width": null,
            "min_height": null,
            "min_width": null,
            "object_fit": null,
            "object_position": null,
            "order": null,
            "overflow": null,
            "overflow_x": null,
            "overflow_y": null,
            "padding": null,
            "right": null,
            "top": null,
            "visibility": null,
            "width": null
          }
        },
        "82716c51721743f69e98c566cb0f8399": {
          "model_module": "@jupyter-widgets/controls",
          "model_name": "DescriptionStyleModel",
          "model_module_version": "1.5.0",
          "state": {
            "_model_module": "@jupyter-widgets/controls",
            "_model_module_version": "1.5.0",
            "_model_name": "DescriptionStyleModel",
            "_view_count": null,
            "_view_module": "@jupyter-widgets/base",
            "_view_module_version": "1.2.0",
            "_view_name": "StyleView",
            "description_width": ""
          }
        },
        "4eb6c5ff67d448a087cc8bd8e3d08ed5": {
          "model_module": "@jupyter-widgets/base",
          "model_name": "LayoutModel",
          "model_module_version": "1.2.0",
          "state": {
            "_model_module": "@jupyter-widgets/base",
            "_model_module_version": "1.2.0",
            "_model_name": "LayoutModel",
            "_view_count": null,
            "_view_module": "@jupyter-widgets/base",
            "_view_module_version": "1.2.0",
            "_view_name": "LayoutView",
            "align_content": null,
            "align_items": null,
            "align_self": null,
            "border": null,
            "bottom": null,
            "display": null,
            "flex": null,
            "flex_flow": null,
            "grid_area": null,
            "grid_auto_columns": null,
            "grid_auto_flow": null,
            "grid_auto_rows": null,
            "grid_column": null,
            "grid_gap": null,
            "grid_row": null,
            "grid_template_areas": null,
            "grid_template_columns": null,
            "grid_template_rows": null,
            "height": null,
            "justify_content": null,
            "justify_items": null,
            "left": null,
            "margin": null,
            "max_height": null,
            "max_width": null,
            "min_height": null,
            "min_width": null,
            "object_fit": null,
            "object_position": null,
            "order": null,
            "overflow": null,
            "overflow_x": null,
            "overflow_y": null,
            "padding": null,
            "right": null,
            "top": null,
            "visibility": null,
            "width": null
          }
        },
        "a696ab96ef0742cc8a65ffdde03ad882": {
          "model_module": "@jupyter-widgets/controls",
          "model_name": "ProgressStyleModel",
          "model_module_version": "1.5.0",
          "state": {
            "_model_module": "@jupyter-widgets/controls",
            "_model_module_version": "1.5.0",
            "_model_name": "ProgressStyleModel",
            "_view_count": null,
            "_view_module": "@jupyter-widgets/base",
            "_view_module_version": "1.2.0",
            "_view_name": "StyleView",
            "bar_color": null,
            "description_width": ""
          }
        },
        "89fa37e1aa89417c8a57274b8c0be187": {
          "model_module": "@jupyter-widgets/base",
          "model_name": "LayoutModel",
          "model_module_version": "1.2.0",
          "state": {
            "_model_module": "@jupyter-widgets/base",
            "_model_module_version": "1.2.0",
            "_model_name": "LayoutModel",
            "_view_count": null,
            "_view_module": "@jupyter-widgets/base",
            "_view_module_version": "1.2.0",
            "_view_name": "LayoutView",
            "align_content": null,
            "align_items": null,
            "align_self": null,
            "border": null,
            "bottom": null,
            "display": null,
            "flex": null,
            "flex_flow": null,
            "grid_area": null,
            "grid_auto_columns": null,
            "grid_auto_flow": null,
            "grid_auto_rows": null,
            "grid_column": null,
            "grid_gap": null,
            "grid_row": null,
            "grid_template_areas": null,
            "grid_template_columns": null,
            "grid_template_rows": null,
            "height": null,
            "justify_content": null,
            "justify_items": null,
            "left": null,
            "margin": null,
            "max_height": null,
            "max_width": null,
            "min_height": null,
            "min_width": null,
            "object_fit": null,
            "object_position": null,
            "order": null,
            "overflow": null,
            "overflow_x": null,
            "overflow_y": null,
            "padding": null,
            "right": null,
            "top": null,
            "visibility": null,
            "width": null
          }
        },
        "967919d0b2174355bdf6c34a65ebdd07": {
          "model_module": "@jupyter-widgets/controls",
          "model_name": "DescriptionStyleModel",
          "model_module_version": "1.5.0",
          "state": {
            "_model_module": "@jupyter-widgets/controls",
            "_model_module_version": "1.5.0",
            "_model_name": "DescriptionStyleModel",
            "_view_count": null,
            "_view_module": "@jupyter-widgets/base",
            "_view_module_version": "1.2.0",
            "_view_name": "StyleView",
            "description_width": ""
          }
        },
        "381e266805744a4394fc547d94033cf2": {
          "model_module": "@jupyter-widgets/controls",
          "model_name": "HBoxModel",
          "model_module_version": "1.5.0",
          "state": {
            "_dom_classes": [],
            "_model_module": "@jupyter-widgets/controls",
            "_model_module_version": "1.5.0",
            "_model_name": "HBoxModel",
            "_view_count": null,
            "_view_module": "@jupyter-widgets/controls",
            "_view_module_version": "1.5.0",
            "_view_name": "HBoxView",
            "box_style": "",
            "children": [
              "IPY_MODEL_bba10d10534f441e8284782568ba4982",
              "IPY_MODEL_9c8a60d05fd64d83bd89f983a29495f4",
              "IPY_MODEL_38b0a01150e94a22971ad83a3dd13ecd"
            ],
            "layout": "IPY_MODEL_8349913659ae4630a09ed097a3e423ee"
          }
        },
        "bba10d10534f441e8284782568ba4982": {
          "model_module": "@jupyter-widgets/controls",
          "model_name": "HTMLModel",
          "model_module_version": "1.5.0",
          "state": {
            "_dom_classes": [],
            "_model_module": "@jupyter-widgets/controls",
            "_model_module_version": "1.5.0",
            "_model_name": "HTMLModel",
            "_view_count": null,
            "_view_module": "@jupyter-widgets/controls",
            "_view_module_version": "1.5.0",
            "_view_name": "HTMLView",
            "description": "",
            "description_tooltip": null,
            "layout": "IPY_MODEL_a5d0d9a006d14173b00b5b7ae77047d2",
            "placeholder": "​",
            "style": "IPY_MODEL_36238491779e40b5a08c5dd128a4ce27",
            "value": "sentencepiece.bpe.model: 100%"
          }
        },
        "9c8a60d05fd64d83bd89f983a29495f4": {
          "model_module": "@jupyter-widgets/controls",
          "model_name": "FloatProgressModel",
          "model_module_version": "1.5.0",
          "state": {
            "_dom_classes": [],
            "_model_module": "@jupyter-widgets/controls",
            "_model_module_version": "1.5.0",
            "_model_name": "FloatProgressModel",
            "_view_count": null,
            "_view_module": "@jupyter-widgets/controls",
            "_view_module_version": "1.5.0",
            "_view_name": "ProgressView",
            "bar_style": "success",
            "description": "",
            "description_tooltip": null,
            "layout": "IPY_MODEL_c3ae4a84860244b68d8707efa034a3ca",
            "max": 5069051,
            "min": 0,
            "orientation": "horizontal",
            "style": "IPY_MODEL_489b601b75d547909b49a6e1cade6ce5",
            "value": 5069051
          }
        },
        "38b0a01150e94a22971ad83a3dd13ecd": {
          "model_module": "@jupyter-widgets/controls",
          "model_name": "HTMLModel",
          "model_module_version": "1.5.0",
          "state": {
            "_dom_classes": [],
            "_model_module": "@jupyter-widgets/controls",
            "_model_module_version": "1.5.0",
            "_model_name": "HTMLModel",
            "_view_count": null,
            "_view_module": "@jupyter-widgets/controls",
            "_view_module_version": "1.5.0",
            "_view_name": "HTMLView",
            "description": "",
            "description_tooltip": null,
            "layout": "IPY_MODEL_6d3fdc242285401abe36b934052a8357",
            "placeholder": "​",
            "style": "IPY_MODEL_30d656dd6b894502a4e5a96e39a222d4",
            "value": " 5.07M/5.07M [00:00&lt;00:00, 940kB/s]"
          }
        },
        "8349913659ae4630a09ed097a3e423ee": {
          "model_module": "@jupyter-widgets/base",
          "model_name": "LayoutModel",
          "model_module_version": "1.2.0",
          "state": {
            "_model_module": "@jupyter-widgets/base",
            "_model_module_version": "1.2.0",
            "_model_name": "LayoutModel",
            "_view_count": null,
            "_view_module": "@jupyter-widgets/base",
            "_view_module_version": "1.2.0",
            "_view_name": "LayoutView",
            "align_content": null,
            "align_items": null,
            "align_self": null,
            "border": null,
            "bottom": null,
            "display": null,
            "flex": null,
            "flex_flow": null,
            "grid_area": null,
            "grid_auto_columns": null,
            "grid_auto_flow": null,
            "grid_auto_rows": null,
            "grid_column": null,
            "grid_gap": null,
            "grid_row": null,
            "grid_template_areas": null,
            "grid_template_columns": null,
            "grid_template_rows": null,
            "height": null,
            "justify_content": null,
            "justify_items": null,
            "left": null,
            "margin": null,
            "max_height": null,
            "max_width": null,
            "min_height": null,
            "min_width": null,
            "object_fit": null,
            "object_position": null,
            "order": null,
            "overflow": null,
            "overflow_x": null,
            "overflow_y": null,
            "padding": null,
            "right": null,
            "top": null,
            "visibility": null,
            "width": null
          }
        },
        "a5d0d9a006d14173b00b5b7ae77047d2": {
          "model_module": "@jupyter-widgets/base",
          "model_name": "LayoutModel",
          "model_module_version": "1.2.0",
          "state": {
            "_model_module": "@jupyter-widgets/base",
            "_model_module_version": "1.2.0",
            "_model_name": "LayoutModel",
            "_view_count": null,
            "_view_module": "@jupyter-widgets/base",
            "_view_module_version": "1.2.0",
            "_view_name": "LayoutView",
            "align_content": null,
            "align_items": null,
            "align_self": null,
            "border": null,
            "bottom": null,
            "display": null,
            "flex": null,
            "flex_flow": null,
            "grid_area": null,
            "grid_auto_columns": null,
            "grid_auto_flow": null,
            "grid_auto_rows": null,
            "grid_column": null,
            "grid_gap": null,
            "grid_row": null,
            "grid_template_areas": null,
            "grid_template_columns": null,
            "grid_template_rows": null,
            "height": null,
            "justify_content": null,
            "justify_items": null,
            "left": null,
            "margin": null,
            "max_height": null,
            "max_width": null,
            "min_height": null,
            "min_width": null,
            "object_fit": null,
            "object_position": null,
            "order": null,
            "overflow": null,
            "overflow_x": null,
            "overflow_y": null,
            "padding": null,
            "right": null,
            "top": null,
            "visibility": null,
            "width": null
          }
        },
        "36238491779e40b5a08c5dd128a4ce27": {
          "model_module": "@jupyter-widgets/controls",
          "model_name": "DescriptionStyleModel",
          "model_module_version": "1.5.0",
          "state": {
            "_model_module": "@jupyter-widgets/controls",
            "_model_module_version": "1.5.0",
            "_model_name": "DescriptionStyleModel",
            "_view_count": null,
            "_view_module": "@jupyter-widgets/base",
            "_view_module_version": "1.2.0",
            "_view_name": "StyleView",
            "description_width": ""
          }
        },
        "c3ae4a84860244b68d8707efa034a3ca": {
          "model_module": "@jupyter-widgets/base",
          "model_name": "LayoutModel",
          "model_module_version": "1.2.0",
          "state": {
            "_model_module": "@jupyter-widgets/base",
            "_model_module_version": "1.2.0",
            "_model_name": "LayoutModel",
            "_view_count": null,
            "_view_module": "@jupyter-widgets/base",
            "_view_module_version": "1.2.0",
            "_view_name": "LayoutView",
            "align_content": null,
            "align_items": null,
            "align_self": null,
            "border": null,
            "bottom": null,
            "display": null,
            "flex": null,
            "flex_flow": null,
            "grid_area": null,
            "grid_auto_columns": null,
            "grid_auto_flow": null,
            "grid_auto_rows": null,
            "grid_column": null,
            "grid_gap": null,
            "grid_row": null,
            "grid_template_areas": null,
            "grid_template_columns": null,
            "grid_template_rows": null,
            "height": null,
            "justify_content": null,
            "justify_items": null,
            "left": null,
            "margin": null,
            "max_height": null,
            "max_width": null,
            "min_height": null,
            "min_width": null,
            "object_fit": null,
            "object_position": null,
            "order": null,
            "overflow": null,
            "overflow_x": null,
            "overflow_y": null,
            "padding": null,
            "right": null,
            "top": null,
            "visibility": null,
            "width": null
          }
        },
        "489b601b75d547909b49a6e1cade6ce5": {
          "model_module": "@jupyter-widgets/controls",
          "model_name": "ProgressStyleModel",
          "model_module_version": "1.5.0",
          "state": {
            "_model_module": "@jupyter-widgets/controls",
            "_model_module_version": "1.5.0",
            "_model_name": "ProgressStyleModel",
            "_view_count": null,
            "_view_module": "@jupyter-widgets/base",
            "_view_module_version": "1.2.0",
            "_view_name": "StyleView",
            "bar_color": null,
            "description_width": ""
          }
        },
        "6d3fdc242285401abe36b934052a8357": {
          "model_module": "@jupyter-widgets/base",
          "model_name": "LayoutModel",
          "model_module_version": "1.2.0",
          "state": {
            "_model_module": "@jupyter-widgets/base",
            "_model_module_version": "1.2.0",
            "_model_name": "LayoutModel",
            "_view_count": null,
            "_view_module": "@jupyter-widgets/base",
            "_view_module_version": "1.2.0",
            "_view_name": "LayoutView",
            "align_content": null,
            "align_items": null,
            "align_self": null,
            "border": null,
            "bottom": null,
            "display": null,
            "flex": null,
            "flex_flow": null,
            "grid_area": null,
            "grid_auto_columns": null,
            "grid_auto_flow": null,
            "grid_auto_rows": null,
            "grid_column": null,
            "grid_gap": null,
            "grid_row": null,
            "grid_template_areas": null,
            "grid_template_columns": null,
            "grid_template_rows": null,
            "height": null,
            "justify_content": null,
            "justify_items": null,
            "left": null,
            "margin": null,
            "max_height": null,
            "max_width": null,
            "min_height": null,
            "min_width": null,
            "object_fit": null,
            "object_position": null,
            "order": null,
            "overflow": null,
            "overflow_x": null,
            "overflow_y": null,
            "padding": null,
            "right": null,
            "top": null,
            "visibility": null,
            "width": null
          }
        },
        "30d656dd6b894502a4e5a96e39a222d4": {
          "model_module": "@jupyter-widgets/controls",
          "model_name": "DescriptionStyleModel",
          "model_module_version": "1.5.0",
          "state": {
            "_model_module": "@jupyter-widgets/controls",
            "_model_module_version": "1.5.0",
            "_model_name": "DescriptionStyleModel",
            "_view_count": null,
            "_view_module": "@jupyter-widgets/base",
            "_view_module_version": "1.2.0",
            "_view_name": "StyleView",
            "description_width": ""
          }
        },
        "ef7b7fe1d2c04d3e83259c04b620ac77": {
          "model_module": "@jupyter-widgets/controls",
          "model_name": "HBoxModel",
          "model_module_version": "1.5.0",
          "state": {
            "_dom_classes": [],
            "_model_module": "@jupyter-widgets/controls",
            "_model_module_version": "1.5.0",
            "_model_name": "HBoxModel",
            "_view_count": null,
            "_view_module": "@jupyter-widgets/controls",
            "_view_module_version": "1.5.0",
            "_view_name": "HBoxView",
            "box_style": "",
            "children": [
              "IPY_MODEL_3c3a00abec6f4ba4b24b3e57786f8aea",
              "IPY_MODEL_dee9cacc574a4bf5921440ccdc767276",
              "IPY_MODEL_8dbeaac2f90746f0a1d98ae33a65281f"
            ],
            "layout": "IPY_MODEL_8bb1aaf2663d43fdb8ac0d6f7901ff5a"
          }
        },
        "3c3a00abec6f4ba4b24b3e57786f8aea": {
          "model_module": "@jupyter-widgets/controls",
          "model_name": "HTMLModel",
          "model_module_version": "1.5.0",
          "state": {
            "_dom_classes": [],
            "_model_module": "@jupyter-widgets/controls",
            "_model_module_version": "1.5.0",
            "_model_name": "HTMLModel",
            "_view_count": null,
            "_view_module": "@jupyter-widgets/controls",
            "_view_module_version": "1.5.0",
            "_view_name": "HTMLView",
            "description": "",
            "description_tooltip": null,
            "layout": "IPY_MODEL_1a2c231989f2488b9f93fe8ac0df7428",
            "placeholder": "​",
            "style": "IPY_MODEL_a193a162103b46d69e0381061b6674af",
            "value": "Upload 3 LFS files: 100%"
          }
        },
        "dee9cacc574a4bf5921440ccdc767276": {
          "model_module": "@jupyter-widgets/controls",
          "model_name": "FloatProgressModel",
          "model_module_version": "1.5.0",
          "state": {
            "_dom_classes": [],
            "_model_module": "@jupyter-widgets/controls",
            "_model_module_version": "1.5.0",
            "_model_name": "FloatProgressModel",
            "_view_count": null,
            "_view_module": "@jupyter-widgets/controls",
            "_view_module_version": "1.5.0",
            "_view_name": "ProgressView",
            "bar_style": "success",
            "description": "",
            "description_tooltip": null,
            "layout": "IPY_MODEL_80368b824dd24b0483d921769884fdd2",
            "max": 3,
            "min": 0,
            "orientation": "horizontal",
            "style": "IPY_MODEL_46e4b10da36d48f2a06c4b70646ecb97",
            "value": 3
          }
        },
        "8dbeaac2f90746f0a1d98ae33a65281f": {
          "model_module": "@jupyter-widgets/controls",
          "model_name": "HTMLModel",
          "model_module_version": "1.5.0",
          "state": {
            "_dom_classes": [],
            "_model_module": "@jupyter-widgets/controls",
            "_model_module_version": "1.5.0",
            "_model_name": "HTMLModel",
            "_view_count": null,
            "_view_module": "@jupyter-widgets/controls",
            "_view_module_version": "1.5.0",
            "_view_name": "HTMLView",
            "description": "",
            "description_tooltip": null,
            "layout": "IPY_MODEL_259c5fb7511a4c749c48282d52a4a276",
            "placeholder": "​",
            "style": "IPY_MODEL_ea7ad34e31ca429d894efd65904a9b12",
            "value": " 3/3 [00:32&lt;00:00, 32.31s/it]"
          }
        },
        "8bb1aaf2663d43fdb8ac0d6f7901ff5a": {
          "model_module": "@jupyter-widgets/base",
          "model_name": "LayoutModel",
          "model_module_version": "1.2.0",
          "state": {
            "_model_module": "@jupyter-widgets/base",
            "_model_module_version": "1.2.0",
            "_model_name": "LayoutModel",
            "_view_count": null,
            "_view_module": "@jupyter-widgets/base",
            "_view_module_version": "1.2.0",
            "_view_name": "LayoutView",
            "align_content": null,
            "align_items": null,
            "align_self": null,
            "border": null,
            "bottom": null,
            "display": null,
            "flex": null,
            "flex_flow": null,
            "grid_area": null,
            "grid_auto_columns": null,
            "grid_auto_flow": null,
            "grid_auto_rows": null,
            "grid_column": null,
            "grid_gap": null,
            "grid_row": null,
            "grid_template_areas": null,
            "grid_template_columns": null,
            "grid_template_rows": null,
            "height": null,
            "justify_content": null,
            "justify_items": null,
            "left": null,
            "margin": null,
            "max_height": null,
            "max_width": null,
            "min_height": null,
            "min_width": null,
            "object_fit": null,
            "object_position": null,
            "order": null,
            "overflow": null,
            "overflow_x": null,
            "overflow_y": null,
            "padding": null,
            "right": null,
            "top": null,
            "visibility": null,
            "width": null
          }
        },
        "1a2c231989f2488b9f93fe8ac0df7428": {
          "model_module": "@jupyter-widgets/base",
          "model_name": "LayoutModel",
          "model_module_version": "1.2.0",
          "state": {
            "_model_module": "@jupyter-widgets/base",
            "_model_module_version": "1.2.0",
            "_model_name": "LayoutModel",
            "_view_count": null,
            "_view_module": "@jupyter-widgets/base",
            "_view_module_version": "1.2.0",
            "_view_name": "LayoutView",
            "align_content": null,
            "align_items": null,
            "align_self": null,
            "border": null,
            "bottom": null,
            "display": null,
            "flex": null,
            "flex_flow": null,
            "grid_area": null,
            "grid_auto_columns": null,
            "grid_auto_flow": null,
            "grid_auto_rows": null,
            "grid_column": null,
            "grid_gap": null,
            "grid_row": null,
            "grid_template_areas": null,
            "grid_template_columns": null,
            "grid_template_rows": null,
            "height": null,
            "justify_content": null,
            "justify_items": null,
            "left": null,
            "margin": null,
            "max_height": null,
            "max_width": null,
            "min_height": null,
            "min_width": null,
            "object_fit": null,
            "object_position": null,
            "order": null,
            "overflow": null,
            "overflow_x": null,
            "overflow_y": null,
            "padding": null,
            "right": null,
            "top": null,
            "visibility": null,
            "width": null
          }
        },
        "a193a162103b46d69e0381061b6674af": {
          "model_module": "@jupyter-widgets/controls",
          "model_name": "DescriptionStyleModel",
          "model_module_version": "1.5.0",
          "state": {
            "_model_module": "@jupyter-widgets/controls",
            "_model_module_version": "1.5.0",
            "_model_name": "DescriptionStyleModel",
            "_view_count": null,
            "_view_module": "@jupyter-widgets/base",
            "_view_module_version": "1.2.0",
            "_view_name": "StyleView",
            "description_width": ""
          }
        },
        "80368b824dd24b0483d921769884fdd2": {
          "model_module": "@jupyter-widgets/base",
          "model_name": "LayoutModel",
          "model_module_version": "1.2.0",
          "state": {
            "_model_module": "@jupyter-widgets/base",
            "_model_module_version": "1.2.0",
            "_model_name": "LayoutModel",
            "_view_count": null,
            "_view_module": "@jupyter-widgets/base",
            "_view_module_version": "1.2.0",
            "_view_name": "LayoutView",
            "align_content": null,
            "align_items": null,
            "align_self": null,
            "border": null,
            "bottom": null,
            "display": null,
            "flex": null,
            "flex_flow": null,
            "grid_area": null,
            "grid_auto_columns": null,
            "grid_auto_flow": null,
            "grid_auto_rows": null,
            "grid_column": null,
            "grid_gap": null,
            "grid_row": null,
            "grid_template_areas": null,
            "grid_template_columns": null,
            "grid_template_rows": null,
            "height": null,
            "justify_content": null,
            "justify_items": null,
            "left": null,
            "margin": null,
            "max_height": null,
            "max_width": null,
            "min_height": null,
            "min_width": null,
            "object_fit": null,
            "object_position": null,
            "order": null,
            "overflow": null,
            "overflow_x": null,
            "overflow_y": null,
            "padding": null,
            "right": null,
            "top": null,
            "visibility": null,
            "width": null
          }
        },
        "46e4b10da36d48f2a06c4b70646ecb97": {
          "model_module": "@jupyter-widgets/controls",
          "model_name": "ProgressStyleModel",
          "model_module_version": "1.5.0",
          "state": {
            "_model_module": "@jupyter-widgets/controls",
            "_model_module_version": "1.5.0",
            "_model_name": "ProgressStyleModel",
            "_view_count": null,
            "_view_module": "@jupyter-widgets/base",
            "_view_module_version": "1.2.0",
            "_view_name": "StyleView",
            "bar_color": null,
            "description_width": ""
          }
        },
        "259c5fb7511a4c749c48282d52a4a276": {
          "model_module": "@jupyter-widgets/base",
          "model_name": "LayoutModel",
          "model_module_version": "1.2.0",
          "state": {
            "_model_module": "@jupyter-widgets/base",
            "_model_module_version": "1.2.0",
            "_model_name": "LayoutModel",
            "_view_count": null,
            "_view_module": "@jupyter-widgets/base",
            "_view_module_version": "1.2.0",
            "_view_name": "LayoutView",
            "align_content": null,
            "align_items": null,
            "align_self": null,
            "border": null,
            "bottom": null,
            "display": null,
            "flex": null,
            "flex_flow": null,
            "grid_area": null,
            "grid_auto_columns": null,
            "grid_auto_flow": null,
            "grid_auto_rows": null,
            "grid_column": null,
            "grid_gap": null,
            "grid_row": null,
            "grid_template_areas": null,
            "grid_template_columns": null,
            "grid_template_rows": null,
            "height": null,
            "justify_content": null,
            "justify_items": null,
            "left": null,
            "margin": null,
            "max_height": null,
            "max_width": null,
            "min_height": null,
            "min_width": null,
            "object_fit": null,
            "object_position": null,
            "order": null,
            "overflow": null,
            "overflow_x": null,
            "overflow_y": null,
            "padding": null,
            "right": null,
            "top": null,
            "visibility": null,
            "width": null
          }
        },
        "ea7ad34e31ca429d894efd65904a9b12": {
          "model_module": "@jupyter-widgets/controls",
          "model_name": "DescriptionStyleModel",
          "model_module_version": "1.5.0",
          "state": {
            "_model_module": "@jupyter-widgets/controls",
            "_model_module_version": "1.5.0",
            "_model_name": "DescriptionStyleModel",
            "_view_count": null,
            "_view_module": "@jupyter-widgets/base",
            "_view_module_version": "1.2.0",
            "_view_name": "StyleView",
            "description_width": ""
          }
        },
        "deeedf7192fe460fb3830d9517e7aa70": {
          "model_module": "@jupyter-widgets/controls",
          "model_name": "HBoxModel",
          "model_module_version": "1.5.0",
          "state": {
            "_dom_classes": [],
            "_model_module": "@jupyter-widgets/controls",
            "_model_module_version": "1.5.0",
            "_model_name": "HBoxModel",
            "_view_count": null,
            "_view_module": "@jupyter-widgets/controls",
            "_view_module_version": "1.5.0",
            "_view_name": "HBoxView",
            "box_style": "",
            "children": [
              "IPY_MODEL_caf6d9110dfc4956b953b6bcfff2f7dc",
              "IPY_MODEL_c885e6102f6f48ab814d9a8db3bdfacb",
              "IPY_MODEL_18578f97adf44bc49a64189ad4fb1a11"
            ],
            "layout": "IPY_MODEL_41fa90a18b0a463c9f1afa6973f67278"
          }
        },
        "caf6d9110dfc4956b953b6bcfff2f7dc": {
          "model_module": "@jupyter-widgets/controls",
          "model_name": "HTMLModel",
          "model_module_version": "1.5.0",
          "state": {
            "_dom_classes": [],
            "_model_module": "@jupyter-widgets/controls",
            "_model_module_version": "1.5.0",
            "_model_name": "HTMLModel",
            "_view_count": null,
            "_view_module": "@jupyter-widgets/controls",
            "_view_module_version": "1.5.0",
            "_view_name": "HTMLView",
            "description": "",
            "description_tooltip": null,
            "layout": "IPY_MODEL_6729df26e59f4ea8a680645e21836897",
            "placeholder": "​",
            "style": "IPY_MODEL_0887356212694e7e81c250e7887a6921",
            "value": "tokenizer.json: 100%"
          }
        },
        "c885e6102f6f48ab814d9a8db3bdfacb": {
          "model_module": "@jupyter-widgets/controls",
          "model_name": "FloatProgressModel",
          "model_module_version": "1.5.0",
          "state": {
            "_dom_classes": [],
            "_model_module": "@jupyter-widgets/controls",
            "_model_module_version": "1.5.0",
            "_model_name": "FloatProgressModel",
            "_view_count": null,
            "_view_module": "@jupyter-widgets/controls",
            "_view_module_version": "1.5.0",
            "_view_name": "ProgressView",
            "bar_style": "success",
            "description": "",
            "description_tooltip": null,
            "layout": "IPY_MODEL_bd2c2fe35bce4e789b808732c24ca1e5",
            "max": 17083053,
            "min": 0,
            "orientation": "horizontal",
            "style": "IPY_MODEL_229e20f7e17948ce85a5e0e844637334",
            "value": 17083053
          }
        },
        "18578f97adf44bc49a64189ad4fb1a11": {
          "model_module": "@jupyter-widgets/controls",
          "model_name": "HTMLModel",
          "model_module_version": "1.5.0",
          "state": {
            "_dom_classes": [],
            "_model_module": "@jupyter-widgets/controls",
            "_model_module_version": "1.5.0",
            "_model_name": "HTMLModel",
            "_view_count": null,
            "_view_module": "@jupyter-widgets/controls",
            "_view_module_version": "1.5.0",
            "_view_name": "HTMLView",
            "description": "",
            "description_tooltip": null,
            "layout": "IPY_MODEL_6bd8e6c0c491486f89e65bf4e12ad93f",
            "placeholder": "​",
            "style": "IPY_MODEL_fe30e051449e4123b0c360ab0532ba9a",
            "value": " 17.1M/17.1M [00:01&lt;00:00, 34.9MB/s]"
          }
        },
        "41fa90a18b0a463c9f1afa6973f67278": {
          "model_module": "@jupyter-widgets/base",
          "model_name": "LayoutModel",
          "model_module_version": "1.2.0",
          "state": {
            "_model_module": "@jupyter-widgets/base",
            "_model_module_version": "1.2.0",
            "_model_name": "LayoutModel",
            "_view_count": null,
            "_view_module": "@jupyter-widgets/base",
            "_view_module_version": "1.2.0",
            "_view_name": "LayoutView",
            "align_content": null,
            "align_items": null,
            "align_self": null,
            "border": null,
            "bottom": null,
            "display": null,
            "flex": null,
            "flex_flow": null,
            "grid_area": null,
            "grid_auto_columns": null,
            "grid_auto_flow": null,
            "grid_auto_rows": null,
            "grid_column": null,
            "grid_gap": null,
            "grid_row": null,
            "grid_template_areas": null,
            "grid_template_columns": null,
            "grid_template_rows": null,
            "height": null,
            "justify_content": null,
            "justify_items": null,
            "left": null,
            "margin": null,
            "max_height": null,
            "max_width": null,
            "min_height": null,
            "min_width": null,
            "object_fit": null,
            "object_position": null,
            "order": null,
            "overflow": null,
            "overflow_x": null,
            "overflow_y": null,
            "padding": null,
            "right": null,
            "top": null,
            "visibility": null,
            "width": null
          }
        },
        "6729df26e59f4ea8a680645e21836897": {
          "model_module": "@jupyter-widgets/base",
          "model_name": "LayoutModel",
          "model_module_version": "1.2.0",
          "state": {
            "_model_module": "@jupyter-widgets/base",
            "_model_module_version": "1.2.0",
            "_model_name": "LayoutModel",
            "_view_count": null,
            "_view_module": "@jupyter-widgets/base",
            "_view_module_version": "1.2.0",
            "_view_name": "LayoutView",
            "align_content": null,
            "align_items": null,
            "align_self": null,
            "border": null,
            "bottom": null,
            "display": null,
            "flex": null,
            "flex_flow": null,
            "grid_area": null,
            "grid_auto_columns": null,
            "grid_auto_flow": null,
            "grid_auto_rows": null,
            "grid_column": null,
            "grid_gap": null,
            "grid_row": null,
            "grid_template_areas": null,
            "grid_template_columns": null,
            "grid_template_rows": null,
            "height": null,
            "justify_content": null,
            "justify_items": null,
            "left": null,
            "margin": null,
            "max_height": null,
            "max_width": null,
            "min_height": null,
            "min_width": null,
            "object_fit": null,
            "object_position": null,
            "order": null,
            "overflow": null,
            "overflow_x": null,
            "overflow_y": null,
            "padding": null,
            "right": null,
            "top": null,
            "visibility": null,
            "width": null
          }
        },
        "0887356212694e7e81c250e7887a6921": {
          "model_module": "@jupyter-widgets/controls",
          "model_name": "DescriptionStyleModel",
          "model_module_version": "1.5.0",
          "state": {
            "_model_module": "@jupyter-widgets/controls",
            "_model_module_version": "1.5.0",
            "_model_name": "DescriptionStyleModel",
            "_view_count": null,
            "_view_module": "@jupyter-widgets/base",
            "_view_module_version": "1.2.0",
            "_view_name": "StyleView",
            "description_width": ""
          }
        },
        "bd2c2fe35bce4e789b808732c24ca1e5": {
          "model_module": "@jupyter-widgets/base",
          "model_name": "LayoutModel",
          "model_module_version": "1.2.0",
          "state": {
            "_model_module": "@jupyter-widgets/base",
            "_model_module_version": "1.2.0",
            "_model_name": "LayoutModel",
            "_view_count": null,
            "_view_module": "@jupyter-widgets/base",
            "_view_module_version": "1.2.0",
            "_view_name": "LayoutView",
            "align_content": null,
            "align_items": null,
            "align_self": null,
            "border": null,
            "bottom": null,
            "display": null,
            "flex": null,
            "flex_flow": null,
            "grid_area": null,
            "grid_auto_columns": null,
            "grid_auto_flow": null,
            "grid_auto_rows": null,
            "grid_column": null,
            "grid_gap": null,
            "grid_row": null,
            "grid_template_areas": null,
            "grid_template_columns": null,
            "grid_template_rows": null,
            "height": null,
            "justify_content": null,
            "justify_items": null,
            "left": null,
            "margin": null,
            "max_height": null,
            "max_width": null,
            "min_height": null,
            "min_width": null,
            "object_fit": null,
            "object_position": null,
            "order": null,
            "overflow": null,
            "overflow_x": null,
            "overflow_y": null,
            "padding": null,
            "right": null,
            "top": null,
            "visibility": null,
            "width": null
          }
        },
        "229e20f7e17948ce85a5e0e844637334": {
          "model_module": "@jupyter-widgets/controls",
          "model_name": "ProgressStyleModel",
          "model_module_version": "1.5.0",
          "state": {
            "_model_module": "@jupyter-widgets/controls",
            "_model_module_version": "1.5.0",
            "_model_name": "ProgressStyleModel",
            "_view_count": null,
            "_view_module": "@jupyter-widgets/base",
            "_view_module_version": "1.2.0",
            "_view_name": "StyleView",
            "bar_color": null,
            "description_width": ""
          }
        },
        "6bd8e6c0c491486f89e65bf4e12ad93f": {
          "model_module": "@jupyter-widgets/base",
          "model_name": "LayoutModel",
          "model_module_version": "1.2.0",
          "state": {
            "_model_module": "@jupyter-widgets/base",
            "_model_module_version": "1.2.0",
            "_model_name": "LayoutModel",
            "_view_count": null,
            "_view_module": "@jupyter-widgets/base",
            "_view_module_version": "1.2.0",
            "_view_name": "LayoutView",
            "align_content": null,
            "align_items": null,
            "align_self": null,
            "border": null,
            "bottom": null,
            "display": null,
            "flex": null,
            "flex_flow": null,
            "grid_area": null,
            "grid_auto_columns": null,
            "grid_auto_flow": null,
            "grid_auto_rows": null,
            "grid_column": null,
            "grid_gap": null,
            "grid_row": null,
            "grid_template_areas": null,
            "grid_template_columns": null,
            "grid_template_rows": null,
            "height": null,
            "justify_content": null,
            "justify_items": null,
            "left": null,
            "margin": null,
            "max_height": null,
            "max_width": null,
            "min_height": null,
            "min_width": null,
            "object_fit": null,
            "object_position": null,
            "order": null,
            "overflow": null,
            "overflow_x": null,
            "overflow_y": null,
            "padding": null,
            "right": null,
            "top": null,
            "visibility": null,
            "width": null
          }
        },
        "fe30e051449e4123b0c360ab0532ba9a": {
          "model_module": "@jupyter-widgets/controls",
          "model_name": "DescriptionStyleModel",
          "model_module_version": "1.5.0",
          "state": {
            "_model_module": "@jupyter-widgets/controls",
            "_model_module_version": "1.5.0",
            "_model_name": "DescriptionStyleModel",
            "_view_count": null,
            "_view_module": "@jupyter-widgets/base",
            "_view_module_version": "1.2.0",
            "_view_name": "StyleView",
            "description_width": ""
          }
        }
      }
    }
  },
  "nbformat": 4,
  "nbformat_minor": 0
}