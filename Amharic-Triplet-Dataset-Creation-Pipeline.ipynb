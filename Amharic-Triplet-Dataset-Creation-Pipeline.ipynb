{
 "cells": [
  {
   "cell_type": "markdown",
   "metadata": {},
   "source": [
    "## Experiment: Creation of Amharic Triplet Dataset \n",
    "\n",
    "AmQA Dataset USED\n",
    "\n",
    "Credit for the initial dataset: \n",
    "https://github.com/semantic-systems/amharic-qa"
   ]
  },
  {
   "cell_type": "code",
   "execution_count": 1,
   "metadata": {},
   "outputs": [],
   "source": [
    "import json\n",
    "import os\n",
    "\n",
    "path = './amqa_data/'\n",
    "files = ['dev_data.json', 'test_data.json', 'train_data.json']\n",
    "\n",
    "def load_data(files=files, path=path):\n",
    "    data = {}\n",
    "    for file in files:\n",
    "        with open(os.path.join(path, file)) as f:\n",
    "            data[file.split('_')[0]] = json.load(f)\n",
    "    return data\n",
    "\n",
    "data = load_data()"
   ]
  },
  {
   "cell_type": "code",
   "execution_count": 2,
   "metadata": {},
   "outputs": [],
   "source": [
    "import json\n",
    "\n",
    "def get_json_skeleton(data):\n",
    "    if isinstance(data, dict):\n",
    "        return {key: get_json_skeleton(value) for key, value in data.items()}\n",
    "    elif isinstance(data, list):\n",
    "        return [get_json_skeleton(data[0]) if data else []]\n",
    "    else:\n",
    "        # Replace with a generic placeholder for scalar values\n",
    "        return type(data).__name__.lower()"
   ]
  },
  {
   "cell_type": "code",
   "execution_count": 3,
   "metadata": {},
   "outputs": [
    {
     "data": {
      "text/plain": [
       "{'data': [{'paragraphs': [{'qas': [{'question': 'str',\n",
       "       'id': 'int',\n",
       "       'answers': [{'answer_id': 'int',\n",
       "         'document_id': 'int',\n",
       "         'question_id': 'int',\n",
       "         'text': 'str',\n",
       "         'answer_start': 'int',\n",
       "         'answer_end': 'int',\n",
       "         'answer_category': 'nonetype'}],\n",
       "       'is_impossible': 'bool'}],\n",
       "     'context': 'str',\n",
       "     'document_id': 'int'}]}],\n",
       " 'version': 'str'}"
      ]
     },
     "execution_count": 3,
     "metadata": {},
     "output_type": "execute_result"
    }
   ],
   "source": [
    "assert get_json_skeleton(data['train']) == get_json_skeleton(data['dev']) == get_json_skeleton(data['test'])\n",
    "get_json_skeleton(data['dev'])"
   ]
  },
  {
   "cell_type": "code",
   "execution_count": 28,
   "metadata": {},
   "outputs": [],
   "source": [
    "# Step 1 - Load and Validate Data\n",
    "\n",
    "import json\n",
    "from typing import Dict, List, Any\n",
    "import random"
   ]
  },
  {
   "cell_type": "code",
   "execution_count": 29,
   "metadata": {},
   "outputs": [],
   "source": [
    "def load_json(file_path: str) -> Dict:\n",
    "    \"\"\"Load JSON data from a file.\"\"\"\n",
    "    with open(file_path, 'r') as file:\n",
    "        return json.load(file)"
   ]
  },
  {
   "cell_type": "code",
   "execution_count": 43,
   "metadata": {},
   "outputs": [],
   "source": [
    "def validate_and_extract_qa(raw_data: Dict) -> List[Dict]:\n",
    "    \"\"\"\n",
    "    Extract valid QA pairs from the nested dataset structure.\n",
    "    Ensures the schema matches exactly to avoid silent failures.\n",
    "    \"\"\"\n",
    "    qa_list = []\n",
    "    \n",
    "    # Validate top-level structure\n",
    "    if \"data\" not in raw_data:\n",
    "        raise ValueError(\"Invalid schema: Missing 'data' key.\")\n",
    "    # Iterate through documents and paragraphs\n",
    "    for document in raw_data[\"data\"]:\n",
    "        if \"paragraphs\" not in document:\n",
    "            continue  # Skip documents without paragraphs\n",
    "        \n",
    "        for paragraph in document[\"paragraphs\"]:\n",
    "            try:\n",
    "                context = paragraph.get(\"context\", \"\")\n",
    "                document_id = paragraph.get(\"document_id\", -1)\n",
    "                \n",
    "                if not context or \"qas\" not in paragraph:\n",
    "                    continue  # Skip invalid paragraphs\n",
    "                \n",
    "                # Process each QA in the paragraph\n",
    "                for qa in paragraph[\"qas\"]:\n",
    "                    # Skip unanswerable or malformed QAs\n",
    "                    if qa.get(\"is_impossible\", True) or not qa.get(\"answers\"):\n",
    "                        continue  \n",
    "                    \n",
    "                    # Extract the first valid answer (as per your schema)\n",
    "                    first_answer = qa[\"answers\"][0]\n",
    "                    answer_text = first_answer.get(\"text\", \"\")\n",
    "                    if not answer_text:\n",
    "                        continue  # Skip answers without text\n",
    "                    \n",
    "                    qa_list.append({\n",
    "                        \"question\": qa[\"question\"],\n",
    "                        \"context\": context,\n",
    "                        \"answer\": answer_text,\n",
    "                        \"question_id\": qa[\"id\"],\n",
    "                        \"document_id\": document_id\n",
    "                    })\n",
    "            except Exception as e:\n",
    "               continue # Skip any other exceptions\n",
    "    \n",
    "    return qa_list"
   ]
  },
  {
   "cell_type": "code",
   "execution_count": 44,
   "metadata": {},
   "outputs": [],
   "source": [
    "# Map answer texts to their associated context for effective negative sampling\n",
    "\n",
    "def build_answer_context_map(qa_list: List[Dict]) -> Dict[str, List[str]]:\n",
    "    \"\"\"Group contexts by their answer text.\"\"\"\n",
    "    answer_to_contexts = {}\n",
    "    for qa in qa_list:\n",
    "        answer = qa[\"answer\"]\n",
    "        context = qa[\"context\"]\n",
    "        if answer not in answer_to_contexts:\n",
    "            answer_to_contexts[answer] = []\n",
    "        answer_to_contexts[answer].append(context)\n",
    "    return answer_to_contexts"
   ]
  },
  {
   "cell_type": "code",
   "execution_count": 45,
   "metadata": {},
   "outputs": [],
   "source": [
    "# triplet\n",
    "\n",
    "def generate_contrastive_triplets(\n",
    "    qa_list: List[Dict],\n",
    "    answer_context_map: Dict[str, List[str]],\n",
    "    num_negatives: int = 3\n",
    ") -> List[Dict[str, Any]]:\n",
    "    \"\"\"Generate (anchor, positive, negatives) triplets.\"\"\"\n",
    "    triplets = []\n",
    "    \n",
    "    for qa in qa_list:\n",
    "        anchor = qa[\"question\"]\n",
    "        positive = qa[\"context\"]\n",
    "        answer = qa[\"answer\"]\n",
    "        \n",
    "        # Collect all contexts from other answers as negatives\n",
    "        negative_pool = [\n",
    "            ctx \n",
    "            for ans, ctx_list in answer_context_map.items() \n",
    "            if ans != answer\n",
    "            for ctx in ctx_list\n",
    "        ]\n",
    "        \n",
    "        # Deduplicate and sample negatives\n",
    "        unique_negatives = list(set(negative_pool))\n",
    "        sampled_negatives = random.sample(\n",
    "            unique_negatives, \n",
    "            min(num_negatives, len(unique_negatives))\n",
    "        )\n",
    "        \n",
    "        triplets.append({\n",
    "            \"anchor\": anchor,\n",
    "            \"positive\": positive,\n",
    "            \"negatives\": sampled_negatives\n",
    "        })\n",
    "    \n",
    "    return triplets"
   ]
  },
  {
   "cell_type": "code",
   "execution_count": 46,
   "metadata": {},
   "outputs": [],
   "source": [
    "# End to End Pipeline\n",
    "\n",
    "def generate_triplets_from_file(\n",
    "    file_path: str, \n",
    "    num_negatives: int = 3\n",
    ") -> List[Dict[str, Any]]:\n",
    "    \"\"\"End-to-end triplet generation from a JSON file.\"\"\"\n",
    "    raw_data = load_json(file_path)\n",
    "    qa_list = validate_and_extract_qa(raw_data)\n",
    "    answer_context_map = build_answer_context_map(qa_list)\n",
    "    return generate_contrastive_triplets(qa_list, answer_context_map, num_negatives)"
   ]
  },
  {
   "cell_type": "code",
   "execution_count": 47,
   "metadata": {},
   "outputs": [],
   "source": [
    "train_triplets = generate_triplets_from_file(\"amqa_data/train_data.json\", num_negatives=3)\n",
    "dev_triplets = generate_triplets_from_file(\"amqa_data/dev_data.json\", num_negatives=3)\n",
    "test_triplets = generate_triplets_from_file(\"amqa_data/test_data.json\", num_negatives=3)"
   ]
  },
  {
   "cell_type": "code",
   "execution_count": 52,
   "metadata": {},
   "outputs": [
    {
     "name": "stdout",
     "output_type": "stream",
     "text": [
      "Result Representation\n",
      "Number of Triplets: Training 1723, Dev 595, Test 299\n",
      "Sample Triplet from Train Triplets:\n",
      "{\n",
      "  \"anchor\": \"ብርጋዴር ጄነራል መአሾ በኢትዮጵያ አየር ኃይል ውስጥ ለስንት ጊዜ አገልግለዋል?\",\n",
      "  \"positive\": \"በኢትዮጵያ አየር ኃይል ውስጥ ለ25 ዓመታት ያገለገሉት ብርጋዴር ጄነራል መአሾ ሀጎስ ስዩም የተባበሩት መንግስታት ድርጅት የደቡብ ሱዳን ሰላም ማስከበር ተልእኮ አዛዥ ሆነው ተሰየሙ። ብርጋዴየር ጄነራል መአሾ  በተመድ የላይቤሪያ እንዲሁም ዳርፉር ሰላም አስከባሪ ኃይል ውስጥ ማገልገላቸውም ታውቋል። አዲሱን ሹመት ከጥር 04 ቀን 2013 ዓ.ም ጀምሮ እንደተሰጣቸውም በተመድ መረጃ ላይ ተገልጿል።\",\n",
      "  \"negatives\": [\n",
      "    \"ዶናልድ ትራምፕ ከኒው ዮርክ ከአምስቱ ቀጠናዎች አንዱ በሆነው በክዊንስ በእ.ኤ.አ. ጁን 14 1946 ተወለደ። ለእናቱ ሜሪ አን እና ለአባቱ ፍሬድ ትራምፕ ከአምስት ልጆች መሃል አራተኛው ልጃቸው ነበር። እናቱ የተወለደችው በስኮትላንድ ሉዊስ ኤንድ ሃሪስ ደሴት ላይ ቶንግ በተባለው ስፍራ ነው። በእ.ኤ.አ. 1930 በ18 ዓመቷ ዩናይትድ ስቴትስን ጎበኘች እናም ከፍሬድ ትራምፕ ጋር ተገናኘች። በእ.ኤ.አ. 1936 ትዳር ይዘው በጃማይካ ኢስቴትስ ክዊንስ መኖር ጀመሩ። በዚህም ስፍራ ፍሬድ ትራምፕ ታላቅ የሪል ኢስቴት ገንቢ ሆኖ ነበር። ዶናልድ ትራምፕ፥ ሮበርት የተባለ አንድ ወንድም፣ ሜሪአን እና ኤሊዛቤት የተባሉ ሁለት እህቶች አሉት። ፍሬድ ጁኒየር የተባለ ወንድሙ ደግሞ ከአልኮል ሱስ ጋር በተያያዘ ምክንያት ሕይወቱ አልፏል ፤ ይህም ከአልኮሆል መጠጥ እና ከትምባሆ እንዲታቀብ እንዳደረገውም ዶናልድ ትራምፕ ይናገራል። የዶናልድ ትራምፕ አባት ከካልሽታት ጀርመን በስደት ከመጡት ከፍሬድሪክ እና ከኤሊዛቤት ትራምፕ በዉድሄቨን ክዊንስ ተወለደ። ዶናልድ ትራምፕ በእ.ኤ.አ. 1976ቱ የኒው ዮርክ ታይምስ የሕይወት ታሪክ መዛግብት ላይ እንዲሁም በእ.ኤ.አ. 1987 በታተመው ዘ አርት ኦፍ ዲል በተሠኘው መጽሐፉ ውስጥ በተሳሳተ መልኩ ፍሬድሪክ የስዊድን ዝርያ እንዳለው ገልጿል። ዘ ኒው ዮርክ ታይምስ የቤተሰብ ታሪክ ጸሐፊ ነው ብሎ የጠራው የወንድም ልጅ እንዳለው ከሆነ ፍሬድሪክ ትራምፕ ይህንን አቋም ለረጅም ጊዜያት የያዘው \\\"ብዙ አይሁዳዊያን ጓደኛሞች ስለነበሩት እና ጀርመናዊ መሆን ጥሩ ስላልሆነ ነበር\\\" ነው ብሏል።  ኋላ ግን ዶናልድ ትራምፕ በቅድመ አያቶቹ ጀርመን መሆኑን አምኖ በእ.ኤ.አ. 1999 በኒው ዮርክ ከተማ በተካሄደው በጀርመን - አሜሪካን ስቱበን ሰልፍ ላይ በግራንድ ማርሻልነት አገልግሏል።\",\n",
      "    \"ቅዱስ ላሊበላ ስልጣን ላይ ከወጣ በኋላ ሕንዓዎችን ለመገንባት አሰበ ከዚያም በጊዜው ከነበሩት አባቶች በተለይ ቀይት ከምትባል ባለአባት የጠየቀውን 40 ጊደር ለመግዛት በሚያስችለው ወርቅ ቦታውን ገዝቶ በከርሰ ምድር ውስጥ ያሉትን ሕንዓዎቸ ሊያወጣ ተዘጋጅ፡፡ ቅዱስ ላሊበላ የሚገነባባቸውን መሳሪያዎችለ 10 አመታት አዘጋጅቶ ማለትም በ 1157 አ.ም ነግሶ በ1166 አ.ም ሕንዓውን ገንብቶ ጨረሰ፡፡ ቅዱስ ላሊበላ ከ 40 አመታት የንግስና ዘመን በኋላ በተወለደ በ 97 አመቱ ሰኔ12 ቀን ከዚህ አለም በሞት ተለየ፡፡ ቅዱስ ላሊበላ ያስገነባቸው    1.ቤተ መድሃኒያለም፤ ቤተማርያም ፡ቤተ መስቀል፡ ቤተ ደናግል እና ቤተ ሚካኤል ፤ 2.ለየት ብሎ እሚታየው ከላይ እስከ ታች ድረሰስ በመስቀል ቅርዕ የተቀረዐው ቤተ ጊዮርጊስ፤ 3.ቤተ ገብር፤ልና ቤተ መርቆሪዮስ፤ ቤተ አማኑኤል እና ቤተ ሊባኖስ ይገኛሉ እነዚህንም ታሪክ ለ ሁለት ይከፍላቸዋል ቤተ መድሃኒአለም፤ ቤተ ማሪያም፤ ቤተ መስቀል፤ ቤተ ደናግል፤ ቤተ ሚካኤል፤ ቤተ ጊዮርጊስ በ ምድራዊ እየሩሳሌም በማለት ቤተ ገብርኤል፤ ቤተ መርቆሪስ፤ ቤተ አማኑኤል፤ ቤተ ሊባኖስ በ ሰማያዊ ፤የሩሳሌም ይላቸዋል፡፡\",\n",
      "    \"ጁፒተር እና ሳተርን ጁፒተር እና ሳተርን ከ4 መቶ አመት በሆላ ትላንት ምሽት በአንድ ላይ ገጥመው አንድ ፕላኔት መስለው ታይተዋል፡፡ ፕላኔቶቹ ከቀን ቀን እየተቀራረቡ መጥተው ትላንት ምሽት በአንድ ላይ በመግጠም ደማቅ ብርሃን ፈንጥቀዋል፡፡ የሁለቱ ግዙፍ ፕላኔቶች ምህዋር  በየ20 ዓመቱ የሚገናኙ ሲሆን ክስተቱ በብዛት በቀን ውስጥ ስለሚሆን በዓይን ለማየት ከባድ መሆኑ ተገልጿል፡፡ ‘ዘ ስታር ኦፍ ቤቴልሄም’ ወይም የቤቴልሄም ኮከብ ተብሎ በሚጠራው በዚህ ክስተት ከ2 ሺህ ዓመታት በፊት ሰማይ ላይ እጅግ ደማቅ ብርሃን ታይቶ እንደነበር ሳይንቲስቶች መናገራቸውን ዘ ጋርዲያን አስነብቧል፡፡\"\n",
      "  ]\n",
      "}\n",
      "Sample Triplet from Dev Triplets:\n",
      "{\n",
      "  \"anchor\": \"የርዋንዳን ፍጅት አስከትሎ የተባበሩት መንግሥታት ድርጅት ያቋቋመው የወንጀለኛ ፍርድ ቤት ጃን ፖል አካዬሱ ላይ የፈረደበት በስንት ዓመተ ምህረት ነው?\",\n",
      "  \"positive\": \"ነሐሴ ፳፯ ነሐሴ ፳፯ በኢትዮጵያ ዘመን አቆጣጠር የዓመቱ ፫፻፶፯ ኛው ዕለት  ነው።  ከዚህ ዕለት በኋላ እስከ ዓመቱ መጨረሻ ድረስ፣ በዘመነሉቃስ  ፱ ዕለታት ሲቀሩ፤ በዘመነ ማቴዎስ፤ ማርቆስ እና ዮሐንስ  ደግሞ ፰ ዕለታት ይቀራሉ። ፲፮፻፶፰ ዓ/ም ለሦስት ቀናት የጋየውና አስር ሺህ ሕንጻዎችን ያወደመው የሎንዶን ትልቁ እሳት ተነሳ። ፲፯፻፵፬ ዓ/ም የምዕራብ አውሮፓ አገራት ዘመን አቆጣጠራቸውን በለወጡ በሁለት መቶ ዓመታቸው፣ ብሪታንያ የጎርጎራዊ ዘመን አቆጣጠርን ተቀበለች። ፲፱፻፳፱ ዓ/ም - በጠላት ወረራ ዘመን የሸዋ አርበኞች ቡልጋ ላይ ተሰባስበው የልጅ ኢያሱን ልጅ መልአከ-ፀሐይ ኢያሱን አነገሡ። አዲሱ 'ንጉሥ' ወዲያው የአርበኞች መሪ ለነበሩት ባላምባራስ አበበ አረጋይ የራስነት ማዕርግ ሰጠ። መልአከ-ፀሐይ ኢያሱ መስከረም ፳፬ ቀን ፲፱፻፴፩ ዓ/ም አረፎ አንኮበር አካባቢ በሚገኘው ዞማ ተክለሃይማኖት ቤተ ክርስቲያን ተቀብሯል። ፲፱፻፴፯ ዓ/ም በሁለተኛው የዓለም ጦርነት ፍጻሜ ጃፓን በተሸናፊነቷ እጇን ሰጠች። ፲፱፻፴፰ ዓ/ም ነጻነትን አስከትሎ በጃዋሃርላል ኔህሩ ምክትል ፕሬዚደንትነት የሚመራ የሕንድ ጊዜያዊ መንግሥት ተመሠረተ። ፲፱፻፺ ዓ/ም የርዋንዳን ፍጅት አስከትሎ የተባበሩት መንግሥታት ድርጅት ያቋቋመው የወንጀለኛ ፍርድ ቤት ጃን ፖል አካዬሱ የተባለውን የቀድሞ ከንቲባ ላይ ፍርዱን የወንጀለኛነት ፍርድ ፈረደበት።\",\n",
      "  \"negatives\": [\n",
      "    \"ቢል ክሊንተን ያደጉት በሆት ስፕሪንግስ፣ አርካንሳው ነው። የቢል ክሊንተን አባት ዊሊያም ጄፈርሰን ብላይዝ ጁኚየር፣ ቢል ክሊንተን ከመወለዱ ሶስት ወር በፊት በመኪና አደጋ ሞተዋል። የቢል ክሊንተን እናት ቨርጂኒያ ክሊንተን ኬሊ፣ በ1950 እ.ኤ.ኣ. ሮጀር ክሊንተን የሚባል ሰዉ አገባች። 14 ዓመቱ ሲሆን ቢል ክሊንተን የመጨረሻ ስሙን ወደ ክሊንተን ለወጠ። ክሊንተን በጆርጅታውን ዩኒቨርሲቲ፥ ዋሽንግተን ዲ.ሲ.፣ ኦክስፎርድ ዩኒቨርሲቲ፥ ኢንግላንድ፣ እና ዬል ዩኒቨርሲቲ፥ ኮነቲኬት ተምረዋል። በ1975 እ.ኤ.ኣ. ሂለሪ ሮድሃምን አገቡና በሊትል ሮክ፥ አርካንሳው መኖር ጀመሩ። ከዚያም በዩኒቨርሲቴ ኦፍ አርካንሳው የሕግ ፐሮፌሰር ሆነው አገልግለዋል። ቢል ክሊንተን የአርካንሳው አስተዳዳሪ ሆኖ ለመጀመሪያ ጊዜ የተመረጡት በ1978 እ.ኤ.ኣ. ነው። በዛ ጊዜ ከአሜሪካ በዕድሜ ትንሹ አስተዳዳሪ ነበሩ። በ1980 እ.ኤ.ኣ. በፍራንክ ዲ ዋይት ከተሸነፉ በኋላ በ1982 እ.ኤ.ኣ. እንደገና ተመረጡ። ከዛ ጀምሮ እስከ 1992 እ.ኤ.ኣ. ድረስ ለአራት ጊዜ አስተዳዳሪ ሆነው መርተዋል። በ1984 እ.ኤ.ኣ. የአስተዳዳሪ የስልጣን ዕድሜ ከ2 ዓመት ወደ 4 ዓመት አራዝመዋል። በ1992 እ.ኤ.ኣ. ለፕሬዝዳንትነት ተወዳድርው አሸንፈዋል። በ1996 እንደገና ተወዳድረው አሸንፈዋል።\",\n",
      "    \"በ1240 አካባቢ በግብጽ አገር ቅብጡ አቡል ፋዳዒል እብን አል-አሣል ፍትሐ ነገሥት በአረብኛ ጻፉ። እብን አል-አሣል ሕጎቹን የወሰዱት በከፊል ከሃዋርያት ጽህፈቶችና ከሕገ ሙሴ፤ በከፊልም ከድሮ ቢዛንታይን ነገስታት ሕጎች ነበር። መጽሐፉ በግዕዝ ተተርጉሞ ወደ ኢትዮጵያ የገባበት ወቅት በዐፄ ዘርዐ ያዕቆብ ዘመን በ1450 አከባቢ እንደነበር የሚል ታሪካዊ መዝገብ አለ።  ቢሆንም መጀመርያ እንደ ሕገ ምንግሥት መጠቀሙን የተመዘገበው በዓፄ ሠርፀ ድንግል ዘመን (ከ1555 ጀምሮ) ነው። ፍትሐ ነገስት እስከ 1923 ዓ.ም. የብሄሩን ዋና ሕግ ሆኖ ቆየ። በ1904 ዓ.ም. ዐጼ 2 ምኒልክ የዘመናዊ ሕገ መንግሥት ፅንሰ ሀሳብ ተረድተው በጸሀፊው መምሬ ብስራት አንድ ሕገ መንግሥት የሚመስል ሰነድ ታተመ፤ ይህ ግን በውነት ሕገ መንግሥት አይባልም። «በምኒሊክ ስለተቋቋሙት ሚኒስቴሮች በምሳሌ የቀረበ ጽሑፍ» በምሳሌና በትርጓሜ የእያንዳንዱን ሚኒስቴር ሥራ እንደ ሰውነት አካላት አስመሰለ። ለምሳሌ፦ ኢትዮጵያ መጀመርያ ዘመናዊ ሕገ መንግሥት የተቀበለችው በ1923 አመተ ምኅረት በአጼ ቀዳማዊ ኃይለ ሥላሴ የታወጀ ሲሆን የሕግ አማካሪ ቤቶች በሁለት ያስከፈለ ነው።  ይህ የመንግሥታቸው ዋና መሠረት ሆኖ እስከ 1948 አ.ም. አገለገለ፤ በዚያ አመት ተሻሽሎ በወጣ ሕገ መንግሥት ሕዝቦች በመንግሥት ሥራ የሚጫወቱት ሚና እንደገና ተስፋፋ።  ይህ ብቻ የአገሪቱ ሕገ መንግሥት ሆኖ እስከ 1967 አ.ም. ቆየ፤ የዛኔ በደርግ (በሕገ መንግስት እራሱ ባልሆነ ሂደት) ተሰረዘ።\",\n",
      "    \"በጃኑዋሪ 1958 እ.ኤ.አ.፣ ሴኔጋልና የፈረንሣይ ሱዳን ተቀላቅለው የማሊ ፌዴሬሽንን መሠረቱ። ይህም ፌዴሬሽን በአፕሪል 4፣ 1960 እ.ኤ.አ. ከፈረንሣይ ጋር በተፈረመው የሥልጣን ዝውውር ስምምነት አማካኝ በጁን 20፣ 1960 እ.ኤ.አ. ነጻነቱን አውጀ። በውስጣዊ የፖለቲካ ውዝግቦች ምክኒያት ፌዴሬሽኑ ክሁለት ወር በኋላ ተከፈለ። ሴኔጋልም ነጻነቱን በድጋሚ አውጀ። ሊዎፖልድ ሴንግሆርም የመጀመሪያው ፕሬዘዳንት ሆኖ በኦገስት 1961 እ.ኤ.አ. ተመረጠ። ፕሬዝዳንት ሊዎፖልድ ሴንግሆር ሀገሩን መምራት ከጀመረ በኋላ ከጠቅላይ ሚኒስትሩ ማማዱ ዲያ ጋር ባለው አለመስማማት ምክኒያት በጠቅላይ ሚኒስትሩ የተመራ መፈንቅለ-መንግሥት በዲሴምበር 1962 እ.ኤ.አ. ተካሄደ። ይህ መፈንቅለ-መንግሥት ያለ ደም ፍስሻ የከሸፈ ሲሆን ማማዱ ዲያም ታሰረ። ከዛም ሴኔጋል የፕሬዝዳነንቱን ሥልጣን የሚያጠነክር አዲስ ሕገ-መንግሥት አሳለፈች። በ1980 እ.ኤ.አ. ፕሬዝዳንት ሴንግሆር በራሱ ፍቃድ ከሥልጣኑ የወረደ ሲሆን በ1981  እ.ኤ.ኣ. በራሱ በሊዎፖልድ ሴንግሆር የተመረጠው አብዱ ዲዮፍ ፕሬዝዳንት ሆነ። በፌብሩዋሪ 1፣ 1982 እ.ኤ.አ.፣ ሴኔጋል ከጋምቢያ ጋር ተዋሕዳ የሴኔጋምቢያ ኮንፌዴሬሽንን መሠረተች። ከስምንት ዓመት በኋላ ግን በ1989 እ.ኤ.አ. ኮንፌዴሬሽኑ ፈረሰ። ከ1982 እ.ኤ.አ. ጀምሮ በደቡባዊ ሴኔጋል በካሳማንክ አካባቢ የሚገኙ አማጺዎች ከሴኔጋል መንግሥት ጋር በየጊዜው ተጋጭተዋል። ሴኔጋል ዓለም-አቀፍ ሰላም-አስከባሪ ሃይሎችን በመላክ ትታተወቃለች። አብዱ ዲዮፍ ከ1981 እስከ 2000 እ.ኤ.አ. ድረስ ፕሬዝዳንት ነበረ። በሥልጣን ጊዜው አብዱ የፖለቲካ ተሳትፎን አበረታትቷል፣ መንግሥቱ በኤኮኖሚው ላይ ያለውን ቁጥጥር አሳንሷል፣ እና ሴኔጋል ክውጭ በተለይም ከታዳጊ ሀገሮች ጋር ያላትን የዲፕሎማሲ ግንኙነቶችን አጠናክሯል። አብዱ ለአራት የሥራ-ጊዜዎች ፕሬዝዳንት ሆኖ አገልግሏል። በ2000 እ.ኤ.አ. በዓለም-አቀፍ ታዛቢዎች ነጻና ዲሞክራሲያዊ በተባለ ምርጫ የአብዱ ዲዮፍ ተቀናቃኝ አብዱላይ ዋዲ አሸንፎ ፕሬዝዳንት ሆኗል። ወደ ውጭ አገር የሚላኩ ሸቀጦች በተለይ አሣ፣ ጥጥ፣ ጨርቅ፣ ባምባራ ለውዝ (Vignea subterranea)፣ ካልሲየም ፎስፌት ናቸው። ሴኔጋል ፕሬዝዳንታዊ ሪፐብሊክ ናት። ከ2001 እ.ኤ.አ. ጀምሮ ፕሬዝዳንቷ በየአምስት ዓመት የሚመረጥ ሲሆን ከዛ በፊት ደግሞ በየሰባት ዓመት ነበር። ያሁኑ ፕሬዝዳንት አብዱላዬ ዋዴ ሲሆኑ በማርች 2007 እ.ኤ.አ. እንደገና ተመርጠዋል።\"\n",
      "  ]\n",
      "}\n",
      "Sample Triplet from Test Triplets:\n",
      "{\n",
      "  \"anchor\": \"የኢትዮጵያ ዋና መዲና ማናት?\",\n",
      "  \"positive\": \"አዲስ አበባ አዲስ አበባ ተብላ የተሠየመችው እቴጌ ጣይቱ ኅዳር ፲፬ ቀን ፲፰፻፸፱ (1879) ዓ.ም. ፍልውሃ ፊን-ፊን ወደሚልበት መስክ ወርደው ሳሉ ከዚህ በፊት አይተዋት የማያውቋት አንዲት ልዩ አበባ አይተ ስለማረከቻቸው ቦታውን ‹‹አዲስ አበባ!›› አሉ ይባላል። አዲስ አበባ (ኣዲስ ኣበባ) ኢትዮጵያ ዋና ከተማ ስትሆን በተጨማሪ የአፍሪካ ሕብረት መቀመጫ እንዲሁም የብዙ የተባበሩት መንግሥታት ድርጅት ቅርንጫፎችና  ሌሎችም  የዓለም የዲፕሎማቲክ (የሰላማዊ ግንኙነት) ልዑካን መሰብሰቢያ ከተማ ናት። ራስ-ገዝ አስተዳደር  ስላላት የከተማና የክልል ማዕረግ ይዛ ትገኛለች። አብዛኞቹን የሀገሩ ቋንቋዎች የሚናገሩ ክርስቲያኖች እና ሙስሊሞች የሚኖሩባት ከተማ ናት። ከባሕር ጠለል በ2500 ሜትር ከፍታ ላይ የምትገኘው ከተማ በግምት 2,757,729 በላይ ሕዝብ የሚኖርባት በመሆኗ የሀገሪቱ አንደኛ ትልቅ ከተማ ናት። ከተማዋ እቴጌ ጣይቱ በመረጡት ቦታ ማለትም በፍል ውሐ አካባቢ ላይ በባላቸው በዳግማዊ ምኒልክ በ፲፰፻፸፰ (1878) ዓ.ም. ተቆረቆረች። የሕዝቧ ብዛት በያመቱ 8% (ስምንት በመቶ) እየጨመረ አሁን አምስት ሚሊዮን እንደሚደርስ ይገመታል። ከእንጦጦ ጋራ ግርጌ ያለችው መዲና የአዲስ አበባ ዩኒቨርሲቲ መገኛ ሆናለች።  ይህም በመስራቹ የቀድሞው ንጉሠ-ነገሥት ስም ቀዳማዊ ኃይለ ሥላሴ ዩኒቨርሲቲ ይባል ነበር።\",\n",
      "  \"negatives\": [\n",
      "    \"በ628 ዓክልበ.፣ ድራኮ የሚባል ጸሃፊ የአቴና ከተማ ሕግጋት ጻፈ፤ ይህም ሕግ እጅግ ጨካኝ ሆኖ ይሙት በቃ ለማንኛውም ጥፋት ወሰነ።  በ600 ዓክልበ.፣ የአቴና አለቃ ሶሎን አዲስ ሕገ መንግሥት ፈጠረ።  የሰራተኞች ሸክም አቀለለ፣ ነገር ግን ባላባትነት በልደት ሳይሆን በንብረት ብዛት እንዲቈጠር አስደረገ። ክሊስቴኔስ እንደገና በ516 ዓክልበ. በዴሞክራሲያዊ መሠረት የተሻሸለ ለአቴና  ሕገ መንግሥት አወጣ። የግሪክ ፈላስፋ አሪስጣጣሊስ በ350 ዓክልበ. ግድም የሕገ መንግሥት ሀሣብ ለይቶ ዐወቀ። በጽሑፎቹ የአቴና፣ የስፓርታና የካርታግና ሕገ መንግሥቶች ያነጻጽራል። በመደምደሚያው የተሻለው ሕገ መንግሥት ከንጉሣዊ፣ ከመኳንንታዊና ከሕዝባዊ ወገኖች የተደባለቀ መሆኑን ገመተ። በሀሣቡ በመንግሥት የሚከፋፈሉ ዜጎች ከማይከፋፈሉ ከባርዮችና ዜጎች ካልሆኑ ሰዎች ልዩነት አደረገ። ሮማውያን መጀመርያ «12ቱ ሰንተረዦች» የተባለውን ሕገ መንግሥት ያወጡ በ457 ዓክልበ. ነበር። ከዚያ በኋላ አንዳንዴ የተለያዩ ሕጎችና ትእዛዛት ይጨምሩበት ነበር እንጂ እስከ መጽሐፈ ቴዎዶስዮስ ድረስ (430 ዓ.ም.) ሌላ ክምቹ ሕገ መንግሥት አልኖረም ነበር። በኋላም በምሥራቁ መንግሥት (ቢዛንታይን) በኩል መጽሐፈ ዩስጢኒያኖስ (526 ዓ.ም.) ለአውሮፓ ከፍ ያለ ተጽእኖ ነበረው። ይህም በምስራቁ ነገሥታት 3ኛ ሌዎን ኢሳውራዊ «ኤክሎጋ» (732 ዓ.ም.) እና በ1ኛ ባሲሌዎስ «ባሲሊካ» (870 ዓ.ም.) በተባሉት ሕገ ፍትሐን ተከተለ።\",\n",
      "    \"ጋና ጋና በአፍሪካ አትላንቲክ ጠረፍ ላይ የተገኘ አገር ሲሆን ከ24 ሚሊዮን ኗሪዎች በላይ አሉት። የጋና ስራ ቋንቋ እንግሊዝኛ ሲሆን፣ ሌሎች ኗሪ ቋንቋዎች በተለይም ትዊኛ (አካንኛ) በሰፊ ይነገራሉ። የ«ጋና» ስያሜ በታሪክ የድሮ «ጋና መንግሥት» ወይም «ዋጋዱጉ መንግሥት» ለማክበር በ1949 ዓም ተመረጠ። እንዲያውም ያው መንግሥት እስከ 1068 ዓም ድረስ ከጋና ወደ ስሜን-ምዕራብ በአሁኑ ማሊ ይገኝ ነበር እንጂ የዛሬውን ጋና መቸም አልገዛም። «ጋና» በትክክል  የዋጋዱጉ መንግሥት አለቆች ማዕረግ ሆኖ ነበር። ዋጋዱጉ መንግሥት በ1068 ዓም ግድም ከወደቀ ቀጥሎ፣ የአካን ብሔሮች ከዚያው ፈልሰው በዛሬው ጋና  ሠፈሩና መጀመርያ ግዛቶችን መሠረቱ። ከ1662 እስከ 1949 ዓም ድረስ የአሻንቲ መንግሥት ባካባቢው ቆየ፤ በ1894 ዓም ይህ የብሪታንያ አሻንቲ ጥብቅ ግዛት ሆነ። ከ1949 ዓም አስቀድሞ የዩናይትድ ኪንግደም ጥገኛ ግዛት ሲሆን በወርቅ ሀብቱ ምክንያት «የወርቅ ጠረፍ ጥገኛ ግዛት» (ጎልድ ኮስት ፕሮቴክቶሬት) በመባል ይታወቅ ነበር። ከ1984 ዓም ጀምሮ ዴሞክራሲያዊ እና ፓርላሜንታዊ መንግሥት ኖሮታል። አብዛኞቹ ኗሪዎች (70%) በተለይ በደቡቡ ክርስቲያን ሲሆኑ፣ በተለይ በስሜኑ 16% የእስልምና ተከታዮች ናቸው። የተረፉትም የኗሪ አረመኔነትን እምነቶች ይከተላሉ። የጋና ዋና ምርቶች ካካዎ፣ ዘይት፣ አልማዝ ናቸው። በአለሙ ከሁሉ ትልቅ የሆነው ሠው ሰራሽ ሐይቅ፣ ቮልታ ሐይቅ፣ በጋና ይገኛል። እግር ኳስ ከሁሉ የተወደደው እስፖርት ነው። የጋና አበሳሰል በተለይ በኮቤ፣ ጐርጠብ፣ የስኳር ድንች፣ ባቄላ፣ በቆሎ፣ ኦቾሎኒ፣ ባሚያና ሩዝ ይሠራል።\",\n",
      "    \"ንጉሡ ላሊበላ የሚለውን ስም ያገኘው፣ ሲወለድ በንቦች ስለተከበበ ነው። ላል ማለት ማር ማለት ሲሆን፤ ላሊበላ ማለትም -ላል ይበላል (ማር ይበላል) ማለት አንደሆነ ይነግራል።  ውቅር ቤተክርስቲያናቱን ንጉሡ ጠርቦ የስራቸው ከመላእክት እገዛ ጋር እንደሆነ በኢትዮጵያ ኦርቶዶክስ እምነት ተከታዮች ይነግራል። በ16ኛው ከፍለ ዘመን አውሮፓዊ ተጓዥ ላሊበላን ተመልክቶ «ያየሁትን ብናግር ማንም እንደኔ ካላየ በፍጹም አያምነኝም» ሲል ተናግሮ ነበር። በላሊበላ 11 ውቅር ዐብያተ ክርስቲያናት ያሉ ሲሆን ከነዚህም ውስጥ ቤተ ጊዮርጊስ (ባለ መስቀል ቅርፁ) ሲታይ ውሃልኩን የጠበቀ ይመስላል። ቤተ መድሃኔ ዓለም የተባለው ደግሞ ከሁሉም ትልቁ ነው። ላሊበላ (ዳግማዊ ኢየሩሳሌም) የገና በዓል ታህሳስ 29 በልዩ ሁኔታ ና ድምቀት ይከበራል፣ \\\"ቤዛ ኩሉ\\\" ተብሎ የሚጠራው በነግህ የሚደረገው ዝማሬ በዚሁ በዓል የሚታይ ልዩ ና ታላቅ ትዕይንት ነው።የሚደረገውም ከቅዳሴ በኋላ በቤተ ማርያም ሲሆን ከታች ባለ ነጭ ካባ ካህናት ከላይ ደግሞ ባለጥቁር ካብ ካህናት በቅዱስ ያሬድ ዜማ ቤዛ ኩሉ እያሉ ይዘምራሉ። 11ዱ የቅዱስ ላሊበላ ፍልፍል አብያተ ክርስቲያናት ቤተ መድሃኔ ዓለም፣ ቤተ ማርያም፣ ቤተ ደናግል፣ ቤተ መስቀል፣ ቤተ ደብረሲና፣ ቤተ ጎለጎታ፣ ቤተ አማኑኤል፣ ቤተ አባ ሊባኖስ፣ ቤተ መርቆሬዎስ፣ ቤተ ገብርኤል ወሩፋኤል፣ ቤተ ጊዮርጊስ ናቸው።\"\n",
      "  ]\n",
      "}\n"
     ]
    }
   ],
   "source": [
    "print(\"Result Representation\")\n",
    "print(f\"Number of Triplets: Training {len(train_triplets)}, Dev {len(dev_triplets)}, Test {len(test_triplets)}\")\n",
    "print(\"Sample Triplet from Train Triplets:\")\n",
    "print(json.dumps(train_triplets[10], indent=2, ensure_ascii=False))\n",
    "print(\"Sample Triplet from Dev Triplets:\")\n",
    "print(json.dumps(dev_triplets[-10], indent=2, ensure_ascii=False))\n",
    "print(\"Sample Triplet from Test Triplets:\")\n",
    "print(json.dumps(test_triplets[10], indent=2, ensure_ascii=False))"
   ]
  },
  {
   "cell_type": "code",
   "execution_count": null,
   "metadata": {},
   "outputs": [],
   "source": []
  }
 ],
 "metadata": {
  "kernelspec": {
   "display_name": "geezlink-WoNzkeoT-py3.10",
   "language": "python",
   "name": "python3"
  },
  "language_info": {
   "codemirror_mode": {
    "name": "ipython",
    "version": 3
   },
   "file_extension": ".py",
   "mimetype": "text/x-python",
   "name": "python",
   "nbconvert_exporter": "python",
   "pygments_lexer": "ipython3",
   "version": "3.10.12"
  }
 },
 "nbformat": 4,
 "nbformat_minor": 2
}
